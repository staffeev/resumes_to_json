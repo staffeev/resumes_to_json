{
 "cells": [
  {
   "cell_type": "code",
   "execution_count": 33,
   "metadata": {},
   "outputs": [],
   "source": [
    "import pandas as pd\n",
    "from sentence_transformers import SentenceTransformer\n",
    "from sentence_transformers.util import cos_sim\n",
    "import fitz"
   ]
  },
  {
   "cell_type": "code",
   "execution_count": 34,
   "metadata": {},
   "outputs": [],
   "source": [
    "# model = SentenceTransformer('sentence-transformers/average_word_embeddings_glove.6B.300d')\n",
    "model = SentenceTransformer('thenlper/gte-base')"
   ]
  },
  {
   "cell_type": "code",
   "execution_count": 35,
   "metadata": {},
   "outputs": [],
   "source": [
    "LABELS_FOR_BLOCKS = [\"Education\", \"Skills\", \"Experience\", \"Personal\", \"Good day\"]\n",
    "BLOCK_LABELS_EMBEDDINGS = model.encode(LABELS_FOR_BLOCKS)\n",
    "BLOCK_LABELS_EMBEDDINGS = [(i, j) for i, j in zip(LABELS_FOR_BLOCKS, BLOCK_LABELS_EMBEDDINGS)]"
   ]
  },
  {
   "cell_type": "code",
   "execution_count": 36,
   "metadata": {},
   "outputs": [],
   "source": [
    "def process_pdf_file(filename):\n",
    "    \"\"\"Получает весь текст из pdf\"\"\"\n",
    "    doc = fitz.open(filename)\n",
    "    blocks = []\n",
    "    for page in doc:\n",
    "        for block in page.get_text_blocks():\n",
    "            if block[4].startswith(\"<image:\") or \"Aspose\" in block[4]:\n",
    "                continue\n",
    "            blocks.append(block[4])\n",
    "    return blocks"
   ]
  },
  {
   "cell_type": "code",
   "execution_count": 37,
   "metadata": {},
   "outputs": [],
   "source": [
    "df = pd.read_csv(\"../csv/text.csv\").drop(columns=[\"Unnamed: 0\"])\n",
    "df = df[~df[\"Filename\"].str.contains(\".doc\")]"
   ]
  },
  {
   "cell_type": "code",
   "execution_count": 27,
   "metadata": {},
   "outputs": [],
   "source": [
    "def get_most_similar_labels_for_block(block):\n",
    "    block_emb = model.encode(block)\n",
    "    label = sorted(BLOCK_LABELS_EMBEDDINGS, key=lambda x: cos_sim(block_emb, x[1]),\n",
    "                   reverse=True)\n",
    "    return label[0][0]"
   ]
  },
  {
   "cell_type": "code",
   "execution_count": 31,
   "metadata": {},
   "outputs": [],
   "source": [
    "blocks = process_pdf_file(\"../\" + df[\"Filename\"].iloc[10])"
   ]
  },
  {
   "cell_type": "code",
   "execution_count": 32,
   "metadata": {},
   "outputs": [],
   "source": [
    "with open(\"blocks_labels.txt\", \"w\", encoding=\"utf-8\") as file:\n",
    "    for i in blocks:\n",
    "        label = get_most_similar_labels_for_block(i)\n",
    "        file.write(i + \"\\n\")\n",
    "        file.write(f\"LABEL: {label}\")\n",
    "        file.write(\"-\" * 50)\n",
    "        file.write(\"\\n\\n\\n\\n\")"
   ]
  },
  {
   "cell_type": "code",
   "execution_count": null,
   "metadata": {},
   "outputs": [],
   "source": []
  }
 ],
 "metadata": {
  "kernelspec": {
   "display_name": "Python 3",
   "language": "python",
   "name": "python3"
  },
  "language_info": {
   "codemirror_mode": {
    "name": "ipython",
    "version": 3
   },
   "file_extension": ".py",
   "mimetype": "text/x-python",
   "name": "python",
   "nbconvert_exporter": "python",
   "pygments_lexer": "ipython3",
   "version": "3.10.12"
  }
 },
 "nbformat": 4,
 "nbformat_minor": 2
}
