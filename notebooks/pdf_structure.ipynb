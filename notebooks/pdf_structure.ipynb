{
 "cells": [
  {
   "cell_type": "code",
   "execution_count": 27,
   "metadata": {},
   "outputs": [],
   "source": [
    "import PyPDF2"
   ]
  },
  {
   "cell_type": "code",
   "execution_count": 28,
   "metadata": {},
   "outputs": [],
   "source": [
    "PDFFile = open(\"../source/Akhundov Damat.pdf\",'rb')\n",
    "PDF = PyPDF2.PdfReader(PDFFile)\n",
    "pages = len(PDF.pages)\n",
    "key = '/Annots'\n",
    "uri = '/URI'\n",
    "ank = '/A'"
   ]
  },
  {
   "cell_type": "code",
   "execution_count": 34,
   "metadata": {},
   "outputs": [
    {
     "data": {
      "text/plain": [
       "{}"
      ]
     },
     "execution_count": 34,
     "metadata": {},
     "output_type": "execute_result"
    }
   ],
   "source": [
    "PDF.named_destinations"
   ]
  },
  {
   "cell_type": "code",
   "execution_count": 25,
   "metadata": {},
   "outputs": [
    {
     "name": "stdout",
     "output_type": "stream",
     "text": [
      "Current Page: 0\n",
      "/Annots\n",
      "{'/Type': '/Annot', '/Subtype': '/Link', '/F': 4, '/Border': [0, 0, 0], '/Rect': [343.30731, 680.64093, 364.5274, 689.76593], '/A': {'/Type': '/Action', '/S': '/URI', '/URI': 'https://github.com/akhundMurad'}}\n",
      "{'/Type': '/Annot', '/Subtype': '/Link', '/F': 4, '/Border': [0, 0, 0], '/Rect': [404.91052, 680.64093, 436.57574, 689.76593], '/A': {'/Type': '/Action', '/S': '/URI', '/URI': 'https://www.linkedin.com/in/akhundov1murad'}}\n",
      "Current Page: 1\n"
     ]
    }
   ],
   "source": [
    "for page in range(pages):\n",
    "    print(\"Current Page: {}\".format(page))\n",
    "    pageSliced = PDF.pages[page]\n",
    "    pageObject = pageSliced.get_object()\n",
    "    if key in pageObject.keys():\n",
    "        print(key)\n",
    "        ann = pageObject[key]\n",
    "        for a in ann:\n",
    "            u = a.get_object()\n",
    "            print(u)\n",
    "            # if uri in u[ank].keys():\n",
    "            #     print(u[ank][uri])"
   ]
  },
  {
   "cell_type": "code",
   "execution_count": 15,
   "metadata": {},
   "outputs": [
    {
     "name": "stdout",
     "output_type": "stream",
     "text": [
      "Current Page: 0\n",
      "{'/Filter': '/FlateDecode'}\n",
      "Current Page: 1\n",
      "{'/Filter': '/FlateDecode'}\n"
     ]
    }
   ],
   "source": [
    "for page in range(pages):\n",
    "    print(\"Current Page: {}\".format(page))\n",
    "    pageSliced = PDF.pages[page]\n",
    "    pageObject = pageSliced.get_contents()\n",
    "    print(pageObject)\n",
    "    if key in pageObject.keys():\n",
    "        print(key)\n",
    "        ann = pageObject[key]\n",
    "        for a in ann:\n",
    "            u = a.get_object()\n",
    "            print(u)\n",
    "            # if uri in u[ank].keys():\n",
    "            #     print(u[ank][uri])"
   ]
  },
  {
   "cell_type": "code",
   "execution_count": 30,
   "metadata": {},
   "outputs": [
    {
     "ename": "TypeError",
     "evalue": "'NoneType' object is not callable",
     "output_type": "error",
     "traceback": [
      "\u001b[0;31m---------------------------------------------------------------------------\u001b[0m",
      "\u001b[0;31mTypeError\u001b[0m                                 Traceback (most recent call last)",
      "Cell \u001b[0;32mIn[30], line 1\u001b[0m\n\u001b[0;32m----> 1\u001b[0m \u001b[43mPDF\u001b[49m\u001b[38;5;241;43m.\u001b[39;49m\u001b[43mpage_layout\u001b[49m\u001b[43m(\u001b[49m\u001b[43m)\u001b[49m\n",
      "\u001b[0;31mTypeError\u001b[0m: 'NoneType' object is not callable"
     ]
    }
   ],
   "source": [
    "PDF.page_layout()"
   ]
  },
  {
   "cell_type": "code",
   "execution_count": 21,
   "metadata": {},
   "outputs": [
    {
     "data": {
      "text/plain": [
       "[]"
      ]
     },
     "execution_count": 21,
     "metadata": {},
     "output_type": "execute_result"
    }
   ],
   "source": [
    "PDF.outline"
   ]
  },
  {
   "cell_type": "code",
   "execution_count": 22,
   "metadata": {},
   "outputs": [],
   "source": [
    "from PyPDF2 import PdfReader\n",
    "import svgwrite\n",
    "\n",
    "reader = PdfReader(\"../random/GeoBase_NHNC1_Data_Model_UML_EN.pdf\")\n",
    "page = reader.pages[2]\n",
    "\n",
    "dwg = svgwrite.Drawing(\"GeoBase_test.svg\", profile=\"tiny\")\n",
    "\n",
    "\n",
    "def visitor_svg_rect(op, args, cm, tm):\n",
    "    if op == b\"re\":\n",
    "        (x, y, w, h) = (args[i].as_numeric() for i in range(4))\n",
    "        dwg.add(dwg.rect((x, y), (w, h), stroke=\"red\", fill_opacity=0.05))\n",
    "\n",
    "\n",
    "def visitor_svg_text(text, cm, tm, fontDict, fontSize):\n",
    "    (x, y) = (tm[4], tm[5])\n",
    "    dwg.add(dwg.text(text, insert=(x, y), fill=\"blue\"))\n",
    "\n",
    "\n",
    "page.extract_text(\n",
    "    visitor_operand_before=visitor_svg_rect, visitor_text=visitor_svg_text\n",
    ")\n",
    "dwg.save()"
   ]
  },
  {
   "cell_type": "code",
   "execution_count": 4,
   "metadata": {},
   "outputs": [],
   "source": [
    "import fitz"
   ]
  },
  {
   "cell_type": "code",
   "execution_count": 12,
   "metadata": {},
   "outputs": [
    {
     "ename": "FileNotFoundError",
     "evalue": "no such file: '../random/Alina Borovkik.pdf'",
     "output_type": "error",
     "traceback": [
      "\u001b[0;31m---------------------------------------------------------------------------\u001b[0m",
      "\u001b[0;31mFileNotFoundError\u001b[0m                         Traceback (most recent call last)",
      "\u001b[0;32m/tmp/ipykernel_50601/3459522350.py\u001b[0m in \u001b[0;36m?\u001b[0;34m()\u001b[0m\n\u001b[0;32m----> 1\u001b[0;31m \u001b[0mdoc\u001b[0m \u001b[0;34m=\u001b[0m \u001b[0mfitz\u001b[0m\u001b[0;34m.\u001b[0m\u001b[0mopen\u001b[0m\u001b[0;34m(\u001b[0m\u001b[0;34m\"../random/Alina Borovkik.pdf\"\u001b[0m\u001b[0;34m)\u001b[0m\u001b[0;34m\u001b[0m\u001b[0;34m\u001b[0m\u001b[0m\n\u001b[0m\u001b[1;32m      2\u001b[0m     \u001b[0;31m# return \"\\n\".join([\"\".join(page.get_text()) for page in doc])\u001b[0m\u001b[0;34m\u001b[0m\u001b[0;34m\u001b[0m\u001b[0m\n",
      "\u001b[0;32m~/.local/lib/python3.10/site-packages/fitz/__init__.py\u001b[0m in \u001b[0;36m?\u001b[0;34m(self, filename, stream, filetype, rect, width, height, fontsize)\u001b[0m\n\u001b[1;32m   2764\u001b[0m                     \u001b[0mself\u001b[0m\u001b[0;34m.\u001b[0m\u001b[0mpage_count2\u001b[0m \u001b[0;34m=\u001b[0m \u001b[0mextra\u001b[0m\u001b[0;34m.\u001b[0m\u001b[0mpage_count_pdf\u001b[0m\u001b[0;34m\u001b[0m\u001b[0;34m\u001b[0m\u001b[0m\n\u001b[1;32m   2765\u001b[0m                 \u001b[0;32melse\u001b[0m\u001b[0;34m:\u001b[0m\u001b[0;34m\u001b[0m\u001b[0;34m\u001b[0m\u001b[0m\n\u001b[1;32m   2766\u001b[0m                     \u001b[0mself\u001b[0m\u001b[0;34m.\u001b[0m\u001b[0mpage_count2\u001b[0m \u001b[0;34m=\u001b[0m \u001b[0mextra\u001b[0m\u001b[0;34m.\u001b[0m\u001b[0mpage_count_fz\u001b[0m\u001b[0;34m\u001b[0m\u001b[0;34m\u001b[0m\u001b[0m\n\u001b[1;32m   2767\u001b[0m         \u001b[0;32mfinally\u001b[0m\u001b[0;34m:\u001b[0m\u001b[0;34m\u001b[0m\u001b[0;34m\u001b[0m\u001b[0m\n\u001b[0;32m-> 2768\u001b[0;31m             \u001b[0mJM_mupdf_show_errors\u001b[0m \u001b[0;34m=\u001b[0m \u001b[0mJM_mupdf_show_errors_old\u001b[0m\u001b[0;34m\u001b[0m\u001b[0;34m\u001b[0m\u001b[0m\n\u001b[0m",
      "\u001b[0;31mFileNotFoundError\u001b[0m: no such file: '../random/Alina Borovkik.pdf'"
     ]
    }
   ],
   "source": [
    "doc = fitz.open(\"../random/Alina Borovik.pdf\")\n",
    "    # return \"\\n\".join([\"\".join(page.get_text()) for page in doc])"
   ]
  },
  {
   "cell_type": "code",
   "execution_count": 6,
   "metadata": {},
   "outputs": [],
   "source": [
    "page0 = next(doc.pages())"
   ]
  },
  {
   "cell_type": "code",
   "execution_count": 7,
   "metadata": {},
   "outputs": [],
   "source": [
    "blocks = page0.get_text_blocks()"
   ]
  },
  {
   "cell_type": "code",
   "execution_count": 8,
   "metadata": {},
   "outputs": [
    {
     "data": {
      "text/plain": [
       "21"
      ]
     },
     "execution_count": 8,
     "metadata": {},
     "output_type": "execute_result"
    }
   ],
   "source": [
    "len(blocks)"
   ]
  },
  {
   "cell_type": "code",
   "execution_count": 9,
   "metadata": {},
   "outputs": [
    {
     "data": {
      "text/plain": [
       "(56.70000076293945,\n",
       " 290.7750244140625,\n",
       " 538.5999755859375,\n",
       " 552.6771240234375,\n",
       " '<image: DeviceRGB, width: 920, height: 500, bpc: 8>',\n",
       " 0,\n",
       " 1)"
      ]
     },
     "execution_count": 9,
     "metadata": {},
     "output_type": "execute_result"
    }
   ],
   "source": [
    "blocks[0]"
   ]
  },
  {
   "cell_type": "code",
   "execution_count": 11,
   "metadata": {},
   "outputs": [
    {
     "data": {
      "text/plain": [
       "(56.70000076293945,\n",
       " 769.4957275390625,\n",
       " 529.449951171875,\n",
       " 805.900390625,\n",
       " 'Created with an evaluation copy of Aspose.Words. To discover the full versions of \\nour APIs please visit: https://products.aspose.com/words/\\nРезюме обновлено 24 февраля 2021 в 19:12\\n',\n",
       " 2,\n",
       " 0)"
      ]
     },
     "execution_count": 11,
     "metadata": {},
     "output_type": "execute_result"
    }
   ],
   "source": [
    "blocks[2]"
   ]
  },
  {
   "cell_type": "code",
   "execution_count": 51,
   "metadata": {},
   "outputs": [
    {
     "name": "stdout",
     "output_type": "stream",
     "text": [
      "• Used Test Driven Development.\n",
      "• Built structure of the project via style guide.\n",
      "• Implemented RESTful API microservice.\n",
      "• Worked with Docker and Docker Compose.\n",
      "• Realised ORM optimization.\n",
      "• Developed an application for converting files from\n",
      "\n"
     ]
    }
   ],
   "source": [
    "print(blocks[12][4])"
   ]
  },
  {
   "cell_type": "code",
   "execution_count": 52,
   "metadata": {},
   "outputs": [
    {
     "name": "stdout",
     "output_type": "stream",
     "text": [
      "two services (JOD Converter and CloudConvert)\n",
      "\n"
     ]
    }
   ],
   "source": [
    "print(blocks[13][4])"
   ]
  },
  {
   "cell_type": "code",
   "execution_count": 57,
   "metadata": {},
   "outputs": [
    {
     "data": {
      "text/plain": [
       "(40.0,\n",
       " 354.8554382324219,\n",
       " 242.98226928710938,\n",
       " 399.184326171875,\n",
       " 'MiDDLE BACKEND DEVELoPER\\n• Developed database structure via Django ORM.\\n• Worked with Celery tasks. Applied best practises.\\n• Implemented integration between BigBlueButton\\n',\n",
       " 10,\n",
       " 0)"
      ]
     },
     "execution_count": 57,
     "metadata": {},
     "output_type": "execute_result"
    }
   ],
   "source": [
    "blocks[10]"
   ]
  },
  {
   "cell_type": "code",
   "execution_count": 58,
   "metadata": {},
   "outputs": [
    {
     "data": {
      "text/plain": [
       "(347.5,\n",
       " 351.7820129394531,\n",
       " 412.27838134765625,\n",
       " 360.4343566894531,\n",
       " 'Feb. 2020 ‑ Present.\\n',\n",
       " 14,\n",
       " 0)"
      ]
     },
     "execution_count": 58,
     "metadata": {},
     "output_type": "execute_result"
    }
   ],
   "source": [
    "blocks[14]"
   ]
  },
  {
   "cell_type": "code",
   "execution_count": 59,
   "metadata": {},
   "outputs": [
    {
     "data": {
      "text/plain": [
       "(40.0,\n",
       " 339.44415283203125,\n",
       " 556.43212890625,\n",
       " 351.05548095703125,\n",
       " 'Online Gymnasium\\nRemote\\n',\n",
       " 9,\n",
       " 0)"
      ]
     },
     "execution_count": 59,
     "metadata": {},
     "output_type": "execute_result"
    }
   ],
   "source": [
    "blocks[9]"
   ]
  },
  {
   "cell_type": "code",
   "execution_count": 62,
   "metadata": {},
   "outputs": [
    {
     "data": {
      "text/plain": [
       "[{'kind': 2,\n",
       "  'xref': 24,\n",
       "  'from': Rect(343.30731201171875, 152.23406982421875, 364.52740478515625, 161.35906982421875),\n",
       "  'uri': 'https://github.com/akhundMurad',\n",
       "  'id': ''},\n",
       " {'kind': 2,\n",
       "  'xref': 25,\n",
       "  'from': Rect(404.9105224609375, 152.23406982421875, 436.57574462890625, 161.35906982421875),\n",
       "  'uri': 'https://www.linkedin.com/in/akhundov1murad',\n",
       "  'id': ''}]"
      ]
     },
     "execution_count": 62,
     "metadata": {},
     "output_type": "execute_result"
    }
   ],
   "source": [
    "page0.get_links()"
   ]
  },
  {
   "cell_type": "code",
   "execution_count": 63,
   "metadata": {},
   "outputs": [
    {
     "ename": "TypeError",
     "evalue": "get_text_selection() missing 2 required positional arguments: 'p1' and 'p2'",
     "output_type": "error",
     "traceback": [
      "\u001b[0;31m---------------------------------------------------------------------------\u001b[0m",
      "\u001b[0;31mTypeError\u001b[0m                                 Traceback (most recent call last)",
      "Cell \u001b[0;32mIn[63], line 1\u001b[0m\n\u001b[0;32m----> 1\u001b[0m \u001b[43mpage0\u001b[49m\u001b[38;5;241;43m.\u001b[39;49m\u001b[43mget_text_selection\u001b[49m\u001b[43m(\u001b[49m\u001b[43m)\u001b[49m\n",
      "\u001b[0;31mTypeError\u001b[0m: get_text_selection() missing 2 required positional arguments: 'p1' and 'p2'"
     ]
    }
   ],
   "source": [
    "page0.get_text_selection()"
   ]
  },
  {
   "cell_type": "code",
   "execution_count": 72,
   "metadata": {},
   "outputs": [
    {
     "data": {
      "text/plain": [
       "(334.18426513671875,\n",
       " 153.7340850830078,\n",
       " 340.18426513671875,\n",
       " 159.7340850830078,\n",
       " '<image: ICCBased(RGB,), width: 25, height: 23, bpc: 8>',\n",
       " 36,\n",
       " 1)"
      ]
     },
     "execution_count": 72,
     "metadata": {},
     "output_type": "execute_result"
    }
   ],
   "source": [
    "blocks[36]"
   ]
  },
  {
   "cell_type": "code",
   "execution_count": 73,
   "metadata": {},
   "outputs": [
    {
     "data": {
      "text/plain": [
       "(439.0,\n",
       " 802.1797485351562,\n",
       " 535.9931640625,\n",
       " 813.0430297851562,\n",
       " '• Got a Full Scholarship.\\n',\n",
       " 35,\n",
       " 0)"
      ]
     },
     "execution_count": 73,
     "metadata": {},
     "output_type": "execute_result"
    }
   ],
   "source": [
    "blocks[35]"
   ]
  },
  {
   "cell_type": "code",
   "execution_count": 77,
   "metadata": {},
   "outputs": [
    {
     "data": {
      "text/plain": [
       "'<image: ICCBased(RGB,), width: 25, height: 23, bpc: 8>'"
      ]
     },
     "execution_count": 77,
     "metadata": {},
     "output_type": "execute_result"
    }
   ],
   "source": [
    "blocks[36][4]"
   ]
  },
  {
   "cell_type": "code",
   "execution_count": 79,
   "metadata": {},
   "outputs": [
    {
     "name": "stdout",
     "output_type": "stream",
     "text": [
      "Akhundov Damat\n",
      "SoFTWARE ENGiNEER · BACKEND DEVELoPER\n",
      "Baku, Azerbaijan\n",
      "(+994) 51 000-60-17 |\n",
      "akhundov1damat@gmail.com |\n",
      "akhunddamat |\n",
      "akhundov1damat\n",
      "“Software is art.”\n",
      "Summary\n",
      "Current Middle Backend Developer at product company Online Gymnasium. I have experience in developing microservice\n",
      "architecture, working with databases, parallel tasks, converting files, integrating external services, working with caching, as well\n",
      "as training new employees. Special‑ izing in RESTful API realization. Using Django REST Framework and FastAPI for this purpose.\n",
      "Prefer to use FastAPI and developing structure of system manually. Also prefer to use Linux, namely Manjaro. Interested in\n",
      "challenging tasks related to architecture development and learning new technologies.\n",
      "Work Experience\n",
      "Online Gymnasium\n",
      "Remote\n",
      "MiDDLE BACKEND DEVELoPER\n",
      "• Developed database structure via Django ORM.\n",
      "• Worked with Celery tasks. Applied best practises.\n",
      "• Implemented integration between BigBlueButton\n",
      "and Django REST Framework.\n",
      "• Used Test Driven Development.\n",
      "• Built structure of the project via style guide.\n",
      "• Implemented RESTful API microservice.\n",
      "• Worked with Docker and Docker Compose.\n",
      "• Realised ORM optimization.\n",
      "• Developed an application for converting files from\n",
      "two services (JOD Converter and CloudConvert)\n",
      "Feb. 2020 ‑ Present.\n",
      "Freelance\n",
      "Baku, Azerbaijan\n",
      "JUNIOR BACKEND DEVELOPER\n",
      "• Developed payment\n",
      "system.\n",
      "• Worked with OpenCV on\n",
      "Python.\n",
      "• Realized authentication\n",
      "system for FastAPI.\n",
      "Feb. 2019 ‑ Feb. 2020\n",
      "Skills\n",
      "DevOps\n",
      "Docker, Docker Compose\n",
      "Frameworks\n",
      "Django REST Framework, Django, FastAPI, REST API\n",
      "Methodologies\n",
      "Test Driven Development, Domain Driven Development\n",
      "Principles\n",
      "SOLID, YAGNI, DRY\n",
      "Databases\n",
      "Postgres, Redis, Cassandra\n",
      "Programming Languages\n",
      "Python, C\n",
      "Languages\n",
      "English, Russian, Azerbaijani\n",
      "Education\n",
      "ASOIU(Azerbaijan State Oil and Industrial University)\n",
      "Baku, Azerbaijan\n",
      "B.S. IN INFORMATION TECHNOLOGIES\n",
      "AND MANAGEMENT\n",
      "• Got a Full Scholarship.\n",
      "\n"
     ]
    }
   ],
   "source": [
    "print(page0.get_text())"
   ]
  },
  {
   "cell_type": "code",
   "execution_count": 81,
   "metadata": {},
   "outputs": [
    {
     "data": {
      "text/plain": [
       "'<image: ICCBased(RGB,), width: 25, height: 23, bpc: 8>'"
      ]
     },
     "execution_count": 81,
     "metadata": {},
     "output_type": "execute_result"
    }
   ],
   "source": [
    "blocks[36][4]"
   ]
  },
  {
   "cell_type": "code",
   "execution_count": 1,
   "metadata": {},
   "outputs": [],
   "source": [
    "import aspose.words as aw\n",
    "doc = aw.Document(\"../source/Alina Borovik.docx\")\n",
    "doc.save(\"../random/Нурутдинов Александр.pdf\")"
   ]
  },
  {
   "cell_type": "code",
   "execution_count": null,
   "metadata": {},
   "outputs": [],
   "source": []
  }
 ],
 "metadata": {
  "kernelspec": {
   "display_name": "Python 3",
   "language": "python",
   "name": "python3"
  },
  "language_info": {
   "codemirror_mode": {
    "name": "ipython",
    "version": 3
   },
   "file_extension": ".py",
   "mimetype": "text/x-python",
   "name": "python",
   "nbconvert_exporter": "python",
   "pygments_lexer": "ipython3",
   "version": "3.10.12"
  }
 },
 "nbformat": 4,
 "nbformat_minor": 2
}
