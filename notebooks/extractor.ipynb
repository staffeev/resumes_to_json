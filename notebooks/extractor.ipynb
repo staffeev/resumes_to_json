{
 "cells": [
  {
   "cell_type": "code",
   "execution_count": 262,
   "metadata": {},
   "outputs": [],
   "source": [
    "import pandas as pd\n",
    "import re\n",
    "import fitz\n",
    "import io\n",
    "from PIL import Image"
   ]
  },
  {
   "cell_type": "code",
   "execution_count": 263,
   "metadata": {},
   "outputs": [],
   "source": [
    "df = pd.read_csv(\"../csv/text.csv\").drop(columns=[\"Unnamed: 0\"])"
   ]
  },
  {
   "cell_type": "code",
   "execution_count": 264,
   "metadata": {},
   "outputs": [
    {
     "data": {
      "text/plain": [
       "Filename                           source/Vsevolod Vinogradov.pdf\n",
       "UsedFilename                       source/Vsevolod Vinogradov.pdf\n",
       "Blocks          ['Vsevolod Vinogradov\\\\nPreferred role: Machin...\n",
       "Text            Vsevolod Vinogradov\\nPreferred role: Machine L...\n",
       "Name: 37, dtype: object"
      ]
     },
     "execution_count": 264,
     "metadata": {},
     "output_type": "execute_result"
    }
   ],
   "source": [
    "df.iloc[154]"
   ]
  },
  {
   "cell_type": "code",
   "execution_count": 259,
   "metadata": {},
   "outputs": [],
   "source": [
    "def f(num, filename):\n",
    "    doc = fitz.open(filename)\n",
    "    imgs = []\n",
    "    pageix = 0\n",
    "    for page in doc:\n",
    "        iix = 0\n",
    "        for xref, *_ in page.get_images():\n",
    "            img = doc.extract_image(xref)\n",
    "            image_bytes = img[\"image\"]\n",
    "            # get the image extension\n",
    "            image_ext = img[\"ext\"]\n",
    "            # load it to PIL\n",
    "            image = Image.open(io.BytesIO(image_bytes))\n",
    "            image.save(open(f\"../images/{num}_{pageix}_{iix}.{image_ext}\", \"wb\"))\n",
    "            iix += 1\n",
    "        pageix += 1"
   ]
  },
  {
   "cell_type": "code",
   "execution_count": 261,
   "metadata": {},
   "outputs": [],
   "source": [
    "for i in range(len(df)):\n",
    "    f(i, \"../\" + df[\"UsedFilename\"].iloc[i])"
   ]
  },
  {
   "cell_type": "code",
   "execution_count": null,
   "metadata": {},
   "outputs": [],
   "source": []
  }
 ],
 "metadata": {
  "kernelspec": {
   "display_name": "Python 3",
   "language": "python",
   "name": "python3"
  },
  "language_info": {
   "codemirror_mode": {
    "name": "ipython",
    "version": 3
   },
   "file_extension": ".py",
   "mimetype": "text/x-python",
   "name": "python",
   "nbconvert_exporter": "python",
   "pygments_lexer": "ipython3",
   "version": "3.10.12"
  }
 },
 "nbformat": 4,
 "nbformat_minor": 2
}
