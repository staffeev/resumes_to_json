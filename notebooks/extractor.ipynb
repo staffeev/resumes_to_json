{
 "cells": [
  {
   "cell_type": "code",
   "execution_count": 111,
   "metadata": {},
   "outputs": [],
   "source": [
    "import pandas as pd\n",
    "import re"
   ]
  },
  {
   "cell_type": "code",
   "execution_count": 112,
   "metadata": {},
   "outputs": [],
   "source": [
    "df = pd.read_csv(\"../csv/text.csv\").drop(columns=[\"Unnamed: 0\"])\n",
    "df = df[~df.isna().any(axis=1)]"
   ]
  },
  {
   "cell_type": "code",
   "execution_count": 113,
   "metadata": {},
   "outputs": [
    {
     "data": {
      "text/html": [
       "<div>\n",
       "<style scoped>\n",
       "    .dataframe tbody tr th:only-of-type {\n",
       "        vertical-align: middle;\n",
       "    }\n",
       "\n",
       "    .dataframe tbody tr th {\n",
       "        vertical-align: top;\n",
       "    }\n",
       "\n",
       "    .dataframe thead th {\n",
       "        text-align: right;\n",
       "    }\n",
       "</style>\n",
       "<table border=\"1\" class=\"dataframe\">\n",
       "  <thead>\n",
       "    <tr style=\"text-align: right;\">\n",
       "      <th></th>\n",
       "      <th>Filename</th>\n",
       "      <th>UsedFilename</th>\n",
       "      <th>Blocks</th>\n",
       "      <th>Text</th>\n",
       "    </tr>\n",
       "  </thead>\n",
       "  <tbody>\n",
       "    <tr>\n",
       "      <th>0</th>\n",
       "      <td>source/Renat Ivanov.pdf</td>\n",
       "      <td>source/Renat Ivanov.pdf</td>\n",
       "      <td>['Renat IVANOV\\\\n', 'Senior Software Engineer\\...</td>\n",
       "      <td>Renat IVANOV\\n\\nSenior Software Engineer\\n\\nMo...</td>\n",
       "    </tr>\n",
       "    <tr>\n",
       "      <th>1</th>\n",
       "      <td>source/Eshi Juraev.pdf</td>\n",
       "      <td>source/Eshi Juraev.pdf</td>\n",
       "      <td>['SUMMARY\\\\n', 'Eshi Juraev\\\\n', 'Email: baaah...</td>\n",
       "      <td>SUMMARY\\n\\nEshi Juraev\\n\\nEmail: baaahayotoff@...</td>\n",
       "    </tr>\n",
       "    <tr>\n",
       "      <th>2</th>\n",
       "      <td>source/Alexandr Burakov.pdf</td>\n",
       "      <td>source/Alexandr Burakov.pdf</td>\n",
       "      <td>['Alexandr Burakov\\\\n', '(+38) 097-000-81-95 |...</td>\n",
       "      <td>Alexandr Burakov\\n\\n(+38) 097-000-81-95 | buaa...</td>\n",
       "    </tr>\n",
       "    <tr>\n",
       "      <th>3</th>\n",
       "      <td>source/Yan Doe.pdf</td>\n",
       "      <td>source/Yan Doe.pdf</td>\n",
       "      <td>['Yan.doe@gmail.com\\\\n', 'Senior Backend Devel...</td>\n",
       "      <td>Yan.doe@gmail.com\\n\\nSenior Backend Developer\\...</td>\n",
       "    </tr>\n",
       "    <tr>\n",
       "      <th>4</th>\n",
       "      <td>source/Marat Dolya.pdf</td>\n",
       "      <td>source/Marat Dolya.pdf</td>\n",
       "      <td>['Marat Dolya\\\\n', 'aaaam.dolya@gmail.com\\\\n',...</td>\n",
       "      <td>Marat Dolya\\n\\naaaam.dolya@gmail.com\\n\\n+14000...</td>\n",
       "    </tr>\n",
       "    <tr>\n",
       "      <th>...</th>\n",
       "      <td>...</td>\n",
       "      <td>...</td>\n",
       "      <td>...</td>\n",
       "      <td>...</td>\n",
       "    </tr>\n",
       "    <tr>\n",
       "      <th>98</th>\n",
       "      <td>source/Mikhail Mukhamatulin.pdf</td>\n",
       "      <td>source/Mikhail Mukhamatulin.pdf</td>\n",
       "      <td>['Mikhail Mukhamatulin \\\\n', '+7-981-809-26-88...</td>\n",
       "      <td>Mikhail Mukhamatulin \\n\\n+7-981-809-26-88 | mi...</td>\n",
       "    </tr>\n",
       "    <tr>\n",
       "      <th>99</th>\n",
       "      <td>source/ANDREW MIRONOV.pdf</td>\n",
       "      <td>source/ANDREW MIRONOV.pdf</td>\n",
       "      <td>[' \\\\n', ' \\\\n', 'ANDREW MIRONOV \\\\n', ' \\\\n',...</td>\n",
       "      <td>\\n\\n \\n\\nANDREW MIRONOV \\n\\n \\n\\nMoscow, Russ...</td>\n",
       "    </tr>\n",
       "    <tr>\n",
       "      <th>100</th>\n",
       "      <td>source/David Samoylov.pdf</td>\n",
       "      <td>source/David Samoylov.pdf</td>\n",
       "      <td>['David Samoylov\\\\n', '+7 (707) 000-76-27 | ea...</td>\n",
       "      <td>David Samoylov\\n\\n+7 (707) 000-76-27 | eaaanes...</td>\n",
       "    </tr>\n",
       "    <tr>\n",
       "      <th>101</th>\n",
       "      <td>source/BOGDANOV NIKOLA.pdf</td>\n",
       "      <td>source/BOGDANOV NIKOLA.pdf</td>\n",
       "      <td>['BOGDANOV NIKOLA \\\\n', ' +7(927)9067111 \\\\n a...</td>\n",
       "      <td>BOGDANOV NIKOLA \\n\\n +7(927)9067111 \\n a@bogbb...</td>\n",
       "    </tr>\n",
       "    <tr>\n",
       "      <th>102</th>\n",
       "      <td>source/Pavel Prysiazhniuk.pdf</td>\n",
       "      <td>source/Pavel Prysiazhniuk.pdf</td>\n",
       "      <td>['Pavel Prysiazhniuk\\\\n', 'FRONT END DEVELOPER...</td>\n",
       "      <td>Pavel Prysiazhniuk\\n\\nFRONT END DEVELOPER\\n\\nL...</td>\n",
       "    </tr>\n",
       "  </tbody>\n",
       "</table>\n",
       "<p>103 rows × 4 columns</p>\n",
       "</div>"
      ],
      "text/plain": [
       "                            Filename                     UsedFilename  \\\n",
       "0            source/Renat Ivanov.pdf          source/Renat Ivanov.pdf   \n",
       "1             source/Eshi Juraev.pdf           source/Eshi Juraev.pdf   \n",
       "2        source/Alexandr Burakov.pdf      source/Alexandr Burakov.pdf   \n",
       "3                 source/Yan Doe.pdf               source/Yan Doe.pdf   \n",
       "4             source/Marat Dolya.pdf           source/Marat Dolya.pdf   \n",
       "..                               ...                              ...   \n",
       "98   source/Mikhail Mukhamatulin.pdf  source/Mikhail Mukhamatulin.pdf   \n",
       "99         source/ANDREW MIRONOV.pdf        source/ANDREW MIRONOV.pdf   \n",
       "100        source/David Samoylov.pdf        source/David Samoylov.pdf   \n",
       "101       source/BOGDANOV NIKOLA.pdf       source/BOGDANOV NIKOLA.pdf   \n",
       "102    source/Pavel Prysiazhniuk.pdf    source/Pavel Prysiazhniuk.pdf   \n",
       "\n",
       "                                                Blocks  \\\n",
       "0    ['Renat IVANOV\\\\n', 'Senior Software Engineer\\...   \n",
       "1    ['SUMMARY\\\\n', 'Eshi Juraev\\\\n', 'Email: baaah...   \n",
       "2    ['Alexandr Burakov\\\\n', '(+38) 097-000-81-95 |...   \n",
       "3    ['Yan.doe@gmail.com\\\\n', 'Senior Backend Devel...   \n",
       "4    ['Marat Dolya\\\\n', 'aaaam.dolya@gmail.com\\\\n',...   \n",
       "..                                                 ...   \n",
       "98   ['Mikhail Mukhamatulin \\\\n', '+7-981-809-26-88...   \n",
       "99   [' \\\\n', ' \\\\n', 'ANDREW MIRONOV \\\\n', ' \\\\n',...   \n",
       "100  ['David Samoylov\\\\n', '+7 (707) 000-76-27 | ea...   \n",
       "101  ['BOGDANOV NIKOLA \\\\n', ' +7(927)9067111 \\\\n a...   \n",
       "102  ['Pavel Prysiazhniuk\\\\n', 'FRONT END DEVELOPER...   \n",
       "\n",
       "                                                  Text  \n",
       "0    Renat IVANOV\\n\\nSenior Software Engineer\\n\\nMo...  \n",
       "1    SUMMARY\\n\\nEshi Juraev\\n\\nEmail: baaahayotoff@...  \n",
       "2    Alexandr Burakov\\n\\n(+38) 097-000-81-95 | buaa...  \n",
       "3    Yan.doe@gmail.com\\n\\nSenior Backend Developer\\...  \n",
       "4    Marat Dolya\\n\\naaaam.dolya@gmail.com\\n\\n+14000...  \n",
       "..                                                 ...  \n",
       "98   Mikhail Mukhamatulin \\n\\n+7-981-809-26-88 | mi...  \n",
       "99    \\n\\n \\n\\nANDREW MIRONOV \\n\\n \\n\\nMoscow, Russ...  \n",
       "100  David Samoylov\\n\\n+7 (707) 000-76-27 | eaaanes...  \n",
       "101  BOGDANOV NIKOLA \\n\\n +7(927)9067111 \\n a@bogbb...  \n",
       "102  Pavel Prysiazhniuk\\n\\nFRONT END DEVELOPER\\n\\nL...  \n",
       "\n",
       "[103 rows x 4 columns]"
      ]
     },
     "execution_count": 113,
     "metadata": {},
     "output_type": "execute_result"
    }
   ],
   "source": [
    "df"
   ]
  },
  {
   "cell_type": "code",
   "execution_count": 8,
   "metadata": {},
   "outputs": [],
   "source": [
    "reg = \"^https?:\\\\/\\\\/(?:www\\\\.)?[-a-zA-Z0-9@:%._\\\\+~#=]{1,256}\\\\.[a-zA-Z0-9()]{1,6}\\\\b(?:[-a-zA-Z0-9()@:%_\\\\+.~#?&\\\\/=]*)$\""
   ]
  },
  {
   "cell_type": "code",
   "execution_count": 33,
   "metadata": {},
   "outputs": [
    {
     "name": "stdout",
     "output_type": "stream",
     "text": [
      "22 ['Github.', 'Github.']\n",
      "86 ['Github,']\n"
     ]
    }
   ],
   "source": [
    "for i in range(len(df)):\n",
    "    found = re.findall(r\"Github\\S+\", df.iloc[i][\"Text\"])\n",
    "    if found:\n",
    "        print(i, found)"
   ]
  },
  {
   "cell_type": "code",
   "execution_count": 34,
   "metadata": {},
   "outputs": [
    {
     "data": {
      "text/plain": [
       "Filename                            source/Alan Abdirasul.pdf\n",
       "Blocks      ['Alan Abdirasul \\\\nSenior Java Software Engin...\n",
       "Text        Alan Abdirasul \\nSenior Java Software Engineer...\n",
       "Name: 86, dtype: object"
      ]
     },
     "execution_count": 34,
     "metadata": {},
     "output_type": "execute_result"
    }
   ],
   "source": [
    "df.iloc[86]"
   ]
  },
  {
   "cell_type": "code",
   "execution_count": 26,
   "metadata": {},
   "outputs": [
    {
     "name": "stdout",
     "output_type": "stream",
     "text": [
      "0 ['@gmail.com']\n",
      "1 ['@gmail.com']\n",
      "2 ['@gmail.com']\n",
      "3 ['@gmail.com']\n",
      "4 ['@gmail.com']\n",
      "5 ['@gmail.com']\n",
      "6 ['@yandex.ru']\n",
      "7 ['@gmail.com']\n",
      "8 ['@MakeItInUkrainebot)', '@gmail.com']\n",
      "9 ['@gmail.com']\n",
      "10 ['@gmail.com']\n",
      "11 ['@lll.kpi.ua']\n",
      "12 ['@gmail.com']\n",
      "13 ['@gmail.com']\n",
      "14 ['@phystech.edu']\n",
      "16 ['@gmail.com']\n",
      "17 ['@gmail.com']\n",
      "18 ['@yandex.by']\n",
      "19 ['@gmail.com']\n",
      "22 ['@font-face', '@font-face', '@font-face', '@font-face', '@font-face', '@font-face', '@kurokawaikki,', '@author:', '@license:', '@{value},14z\")', '@author:', '@live.com', '@copyright:', '@live.com', '@license:', '@outlook.com\"', '@.\"', '@outlook.com\"', '@.\"', '@font-face', '@font-face', '@font-face']\n",
      "23 ['@juliaggggcom']\n",
      "24 ['@gmail.com']\n",
      "25 ['@outlook.com']\n",
      "26 ['@gmail.com', '@COMP1,', '@COMP2', '@COMP3', '@Luxoft(Citibank)', '@Courses']\n",
      "27 ['@gmail.com']\n",
      "28 ['@gmail.com']\n",
      "29 ['@yandex.ru']\n",
      "30 ['@gmail.com']\n",
      "31 ['@gmail.com']\n",
      "33 ['@gmail.com']\n",
      "34 ['@yandex.ru']\n",
      "35 ['@TechLead']\n",
      "36 ['@gmail.com']\n",
      "37 ['@gmail.com']\n",
      "38 ['@gmail.com']\n",
      "39 ['@gmail.com']\n",
      "41 ['@gmail.com']\n",
      "42 ['@gmail.com']\n",
      "43 ['@gmail.com']\n",
      "44 ['@mail.ru']\n",
      "45 ['@gmail.com']\n",
      "46 ['@gmail.com']\n",
      "47 ['@gmail.com']\n",
      "48 ['@nuriev.me']\n",
      "49 ['@gmail.com']\n",
      "50 ['@gmail.com', '@pavlenko_viaaay']\n",
      "51 ['@yandex.by']\n",
      "52 ['@me.com']\n",
      "54 ['@protonmail.com']\n",
      "55 ['@gmail.com']\n",
      "56 ['@x.com']\n",
      "57 ['@gmail.com']\n",
      "58 ['@mail.ru']\n",
      "60 ['@gmail.com']\n",
      "61 ['@gmail.com']\n",
      "62 ['@gmail.com']\n",
      "63 ['@gmail.com']\n",
      "65 ['@nemyagky', '@gmail.com']\n",
      "66 ['@gmail.com']\n",
      "67 ['@phystech.edu']\n",
      "68 ['@mail.com']\n",
      "69 ['@gmail.com']\n",
      "70 ['@gmail.com']\n",
      "71 ['@gmail.com']\n",
      "73 ['@gmail.com']\n",
      "74 ['@gmail.com', '@DoclerHolding', '@Big', '@Leads-Trade', '@Fruitware']\n",
      "75 ['@gmail.com']\n",
      "76 ['@galqiwi.ru', '@galaawi']\n",
      "77 ['@gmail.com']\n",
      "78 ['@gmail.com']\n",
      "79 ['@gmail.com']\n",
      "80 ['@gmail.com']\n",
      "81 ['@gmail.com']\n",
      "82 ['@gmail.com', '@roaaaslavnagimov']\n",
      "83 ['@gmail.com']\n",
      "84 ['@gmail.com']\n",
      "85 ['@gmail.com']\n",
      "86 ['@gmail.com']\n",
      "87 ['@yahoo.com']\n",
      "88 ['@icloud.com']\n",
      "89 ['@gmail.com']\n",
      "90 ['@gmail.com']\n",
      "91 ['@gmail.com']\n",
      "92 ['@gmail.com']\n",
      "93 ['@gmail.com']\n",
      "94 ['@gmail.com']\n",
      "95 ['@gmail.com']\n",
      "96 ['@gmail.com']\n",
      "97 ['@gmail.com']\n",
      "98 ['@gmail.com']\n",
      "99 ['@gmail.com']\n",
      "100 ['@mail.me']\n",
      "101 ['@gmail.com']\n",
      "102 ['@bogbbbb.co']\n",
      "103 ['@gmail.com']\n"
     ]
    }
   ],
   "source": [
    "for i in range(len(df)):\n",
    "    found = re.findall(r\"@\\S+\", df.iloc[i][\"Text\"])\n",
    "    if found:\n",
    "        print(i, found)"
   ]
  },
  {
   "cell_type": "code",
   "execution_count": 27,
   "metadata": {},
   "outputs": [
    {
     "data": {
      "text/plain": [
       "Filename                         source/Danila Doroshenko.pdf\n",
       "Blocks      [' \\\\n \\\\n \\\\n \\\\n', 'Professional Summary \\\\n...\n",
       "Text         \\n \\n \\n \\n\\nProfessional Summary \\n\\nSoftwar...\n",
       "Name: 8, dtype: object"
      ]
     },
     "execution_count": 27,
     "metadata": {},
     "output_type": "execute_result"
    }
   ],
   "source": [
    "df.iloc[8]"
   ]
  },
  {
   "cell_type": "code",
   "execution_count": 100,
   "metadata": {},
   "outputs": [],
   "source": [
    "def find_url(string):\n",
    "    regex = r\"(?i)\\b((?:https?://|www\\d{0,3}[.]|[a-z0-9.\\-]+[.][a-z]{2,4}/)(?:[^\\s()<>]+|\\(([^\\s()<>]+|(\\([^\\s()<>]+\\)))*\\))+(?:\\(([^\\s()<>]+|(\\([^\\s()<>]+\\)))*\\)|[^\\s`!()\\[\\]{};:'\\\".,<>?«»“”‘’]))\"\n",
    "    url = re.findall(regex, string)\n",
    "    return [x[0] for x in url]\n",
    "\n",
    "\n",
    "def find_substring_in_string(sub, text, save=\"postf\"):\n",
    "    ix_pref = text.find(sub)\n",
    "    if ix_pref == -1:\n",
    "        return None\n",
    "    if save == \"postf\":\n",
    "        return text[ix_pref + len(sub):]\n",
    "    elif save == \"pref\":\n",
    "        return text[:ix_pref]\n",
    "\n",
    "\n",
    "def process_url(link_pref, text, keywords):\n",
    "    f = find_substring_in_string\n",
    "    keyword, mode = keywords[0]\n",
    "    res = f(keyword, text, mode)\n",
    "    if res is None:\n",
    "        return None\n",
    "    for keyword, mode in keywords[1:]:\n",
    "        value = f(keyword, res, mode)\n",
    "        if value is None:\n",
    "            break\n",
    "        res = value\n",
    "    return link_pref + res\n",
    "\n",
    "\n",
    "def find_links(df):\n",
    "    urls = df[\"Text\"].apply(find_url)\n",
    "    github_urls = urls.apply(\n",
    "        lambda row: [process_url(\"https://github.com/\", x, \\\n",
    "        [(\"github\", \"postf\"), (\"/\", \"postf\"), (\"/\", \"pref\")]) for x in row])\\\n",
    "        .apply(lambda row: ([x for x in row if x is not None] + [None])[0])\n",
    "    return urls, github_urls"
   ]
  },
  {
   "cell_type": "code",
   "execution_count": 101,
   "metadata": {},
   "outputs": [],
   "source": [
    "urls, links = find_links(df)"
   ]
  },
  {
   "cell_type": "code",
   "execution_count": 103,
   "metadata": {},
   "outputs": [
    {
     "data": {
      "text/plain": [
       "13"
      ]
     },
     "execution_count": 103,
     "metadata": {},
     "output_type": "execute_result"
    }
   ],
   "source": [
    "links.nunique()"
   ]
  },
  {
   "cell_type": "code",
   "execution_count": 67,
   "metadata": {},
   "outputs": [
    {
     "name": "stdout",
     "output_type": "stream",
     "text": [
      "['linkedin.com/in/renat']\n",
      "[]\n",
      "['linkedin.com/in/alex-burakov/', 'github.com/Anvaaandre']\n",
      "['https://www.linkedin.com/in/Yan-doe']\n",
      "['linkedin.com/in/aaaaolya']\n",
      "[]\n",
      "[]\n",
      "[]\n",
      "['https://colab.research.google.co']\n",
      "[]\n",
      "[]\n",
      "['https://www.linkedin.com/in/yar-gty/', 'https://github.com/yar-rfk']\n",
      "[]\n",
      "[]\n",
      "[]\n",
      "[]\n",
      "[]\n",
      "[]\n",
      "[]\n",
      "[]\n",
      "[]\n",
      "[]\n",
      "['https://docs.python', 'https://msdn.com', 'https://learn.microsoft.com/cpp/windows/latest-supported-vc-redist', 'https://github.com/pymupdf/PyMuPDF/issues/2678', 'http://www.python.org/downloads', 'https://github.com/pymupdf/PyMuPDF.git', 'https://github.com/pymupdf/PyMuPDF/', 'https://ghostscript.com:/home/git/mupdf.git', 'https://www.artifex.com', 'https://www.artifex.com', 'https://www.artifex.com', 'https://www.adobe.com/content/dam/acom/en/devnet/acrobat/pdfs/js_api_reference.pdf', 'https://www.adobe.com/devnet/acrobat/documentation.html', 'https://sqlitebrowser.org/', 'https://en.wikipedia.org/wiki/The_quick_brown_fox_jumps_over_the_lazy_dog', 'https://en.wikipedia.org/wiki/The_quick_brown_fox_jumps_over_the_lazy_dog', 'www.google.com/maps/@{value},14z', 'https://artifex.com/', 'https://artifex.com/', 'https://www.pythonguis.com/faq/pyqt6-vs-pyside6/', 'http://www.w3.org/1999/02/22-rdf-syntax-ns#', 'http://www.primopdf.com/', 'http://www.primopdf.com/', 'http://www.primopdf.com/', 'www.foolabs.com/xpdf/', 'https://github.com/pymupdf/PyMuPDF/pull/3112', 'https://github.com/']\n",
      "[]\n",
      "[]\n",
      "[]\n",
      "[]\n",
      "['http://www.linkedin.com/in/aaadtysh']\n",
      "['https://www.linkedin.com/in/dm-e-sido', 'https://github.com/DmSidorenko']\n",
      "[]\n",
      "[]\n",
      "[]\n",
      "[]\n",
      "[]\n",
      "[]\n",
      "['http://techinterviewpro.com/', 'github.com/myproject']\n",
      "[]\n",
      "['https://www.linkedin.com/in/alena-guseinova/', 'https://www.rsb.ru/', 'https://www.youracclaim.com/badges/c6a75c01-1e81-4f29-83d3-']\n",
      "['linkedin.com/in/liza-mokhan-1a8']\n",
      "[]\n",
      "[]\n",
      "[]\n",
      "[]\n",
      "[]\n",
      "['http://mandragora.mstdev.ru/', 'dribbble.com/Goldobinnnnn', 'https://github.com/Goldobinnnnn']\n",
      "[]\n",
      "['linkedin.com/in/denisvaaay']\n",
      "[]\n",
      "['linkedin.com/in/nuriev78/']\n",
      "[]\n",
      "[]\n",
      "[]\n",
      "[]\n",
      "[]\n",
      "[]\n",
      "['github.com/Laaaaer']\n",
      "[]\n",
      "['https://www.linkedin.com/in/cghji/']\n",
      "[]\n",
      "[]\n",
      "[]\n",
      "[]\n",
      "['github.com/ol-aaarozko', 'github.com/nyx-fuzz/packer/pull/23', 'github.com/aflnet/aflnet/pull/70', 'github.com/ol-imorozko/pcap-parser', 'github.com/ol-imorozko/exec-on-board']\n",
      "['https://www.linkedin.com/in/viaaaeslavprotsenko']\n",
      "[]\n",
      "[]\n",
      "[]\n",
      "[]\n",
      "['www.linkedin.com/in/korenyaaa8k', 'www.portfolio.url']\n",
      "['linkedin.com/in/aaaabek-faizolla', 'https://github.com/aaaugg']\n",
      "[]\n",
      "['linkedin.com/in/saaaka0264', 'github.com/saaaka0264']\n",
      "[]\n",
      "[]\n",
      "[]\n",
      "['https://linkedin.com/in/as', 'https://leetcode.com/As', 'https://youtu.be/J6_jHLBE0HM']\n",
      "['vk.com/udfbot', 'vk.com/png2pdf']\n",
      "[]\n",
      "[]\n",
      "[]\n",
      "['linkedin.com/in/semenIvanov65']\n",
      "['linkedin.com/in/aaaabur/']\n",
      "[]\n",
      "[]\n",
      "[]\n",
      "['http://podvignaroda.ru']\n",
      "[]\n",
      "['www.linkedin.com/in/pol-gorbun/', 'github.com/Gorbunova']\n",
      "['https://www.linkedin.com/in/lil-suchkova/']\n",
      "[]\n",
      "[]\n",
      "[]\n",
      "['https://linkedin.com/in/', 'https://github.com/MegafonWebLab']\n",
      "[]\n",
      "[]\n",
      "[]\n",
      "['https://www.linkedin.com/in/xxxxxxxxxx/']\n",
      "[]\n",
      "['linkedin.com/in/johnsmith/', 'github.com/john_smith']\n",
      "[]\n",
      "['https://mrnv.me/s8mu', 'https://blog.mironov.live']\n",
      "['linkedin.com/in/aaaenesmlv']\n",
      "[]\n",
      "[]\n"
     ]
    },
    {
     "data": {
      "text/plain": [
       "[]"
      ]
     },
     "execution_count": 67,
     "metadata": {},
     "output_type": "execute_result"
    }
   ],
   "source": [
    "res = []\n",
    "for i in range(len(df)):\n",
    "    found = find_url(df.iloc[i][\"Text\"])\n",
    "    print(found)\n",
    "res"
   ]
  },
  {
   "cell_type": "code",
   "execution_count": 114,
   "metadata": {},
   "outputs": [],
   "source": [
    "import fitz"
   ]
  },
  {
   "cell_type": "code",
   "execution_count": 123,
   "metadata": {},
   "outputs": [],
   "source": [
    "def get_links_from_pdf(filename):\n",
    "    links = []\n",
    "    for page in fitz.open(filename):\n",
    "        links.extend([obj[\"uri\"] for obj in page.get_links()])\n",
    "    return links"
   ]
  },
  {
   "cell_type": "code",
   "execution_count": 124,
   "metadata": {},
   "outputs": [
    {
     "data": {
      "text/plain": [
       "0                                                     []\n",
       "1                                   [https://kmu.ac.kr/]\n",
       "2           [https://github.com/Anvilondre/opencv-demos]\n",
       "3                                                     []\n",
       "4                         [mailto:artem.dolya@gmail.com]\n",
       "                             ...                        \n",
       "98     [mailto:mikeee.mukhamatulin@gmail.com, https:/...\n",
       "99     [mailto:cv@mail.me, https://www.heartlandretai...\n",
       "100                                                   []\n",
       "101    [mailto:a@bogbbbb.co, https://github.com/Spher...\n",
       "102    [https://www.linkedin.com/in/vitalii-prysiazhn...\n",
       "Name: UsedFilename, Length: 103, dtype: object"
      ]
     },
     "execution_count": 124,
     "metadata": {},
     "output_type": "execute_result"
    }
   ],
   "source": [
    "df[\"UsedFilename\"].apply(lambda x: get_links_from_pdf(\"../\" + x))"
   ]
  },
  {
   "cell_type": "code",
   "execution_count": 156,
   "metadata": {},
   "outputs": [],
   "source": [
    "def reg_find_url(string):\n",
    "    regex = r\"(?i)\\b((?:https?://|www\\d{0,3}[.]|[a-z0-9.\\-]+[.][a-z]{2,4}/)(?:[^\\s()<>]+|\\(([^\\s()<>]+|(\\([^\\s()<>]+\\)))*\\))+(?:\\(([^\\s()<>]+|(\\([^\\s()<>]+\\)))*\\)|[^\\s`!()\\[\\]{};:'\\\".,<>?«»“”‘’]))\"\n",
    "    url = re.findall(regex, string)\n",
    "    return [x[0] for x in url]\n",
    "\n",
    "\n",
    "def find_substring_in_string(sub, text, save=\"postf\"):\n",
    "    ix_pref = text.find(sub)\n",
    "    if ix_pref == -1:\n",
    "        return None\n",
    "    if save == \"postf\":\n",
    "        return text[ix_pref + len(sub):]\n",
    "    elif save == \"pref\":\n",
    "        return text[:ix_pref]\n",
    "\n",
    "\n",
    "def process_url(link_pref, text, keywords):\n",
    "    f = find_substring_in_string\n",
    "    keyword, mode = keywords[0]\n",
    "    res = f(keyword, text, mode)\n",
    "    if res is None:\n",
    "        return None\n",
    "    for keyword, mode in keywords[1:]:\n",
    "        value = f(keyword, res, mode)\n",
    "        if value is None:\n",
    "            break\n",
    "        res = value\n",
    "    return link_pref + res\n",
    "\n",
    "\n",
    "def filter_nans_in_urls(df):\n",
    "    return df.apply(lambda row: ([x for x in row if x is not None] + [None])[0])\n",
    "\n",
    "\n",
    "def get_links_from_pdf(filename):\n",
    "    links = []\n",
    "    for page in fitz.open(filename):\n",
    "        links.extend([obj[\"uri\"] for obj in page.get_links()])\n",
    "    return links\n",
    "\n",
    "\n",
    "def find_links_for_resume(df):\n",
    "    urls = df.apply(lambda x: reg_find_url(x[\"Text\"]) + get_links_from_pdf(\"../\" + x[\"UsedFilename\"]), axis=1)\n",
    "    github_urls = urls.apply(\n",
    "        lambda row: [process_url(\"https://github.com/\", x, \\\n",
    "        [(\"github\", \"postf\"), (\"/\", \"postf\"), (\"/\", \"pref\")]) for x in row])\\\n",
    "        .apply(lambda row: ([x for x in row if x is not None] + [None])[0])\n",
    "    linkedin_urls = urls.apply(\n",
    "        lambda row: [process_url(\"https://www.linkedin.com/\", x, \\\n",
    "        [(\"linkedin\", \"postf\"), (\"/\", \"postf\"), (\"/\", \"postf\")]) for x in row])\\\n",
    "        .apply(lambda row: ([x for x in row if x is not None] + [None])[0])\n",
    "    # linkedin.com/in/renat\n",
    "    return urls, github_urls, linkedin_urls"
   ]
  },
  {
   "cell_type": "code",
   "execution_count": 202,
   "metadata": {},
   "outputs": [],
   "source": [
    "def find_tg(x):\n",
    "    found = re.findall(r\"\\s*@\\S+\", x)\n",
    "    for i in found:\n",
    "        if '.' not in i:\n",
    "            return i.strip()\n",
    "    return None"
   ]
  },
  {
   "cell_type": "code",
   "execution_count": 203,
   "metadata": {},
   "outputs": [
    {
     "data": {
      "text/plain": [
       "array(['@gmail.com', '@yandex.ru', '@MakeItInUkrainebot), @gmail.com',\n",
       "       '@lll.kpi.ua', '@phystech.edu', None, '@yandex.by',\n",
       "       '@juliaggggcom', '@outlook.com',\n",
       "       '@gmail.com,  @COMP1,,  @COMP2,  @COMP3,  @Luxoft(Citibank),  @Courses',\n",
       "       ' \\n\\n@TechLead', '@mail.ru', '@nuriev.me',\n",
       "       '@gmail.com, \\n\\n@pavlenko_viaaay', '@me.com', '@protonmail.com',\n",
       "       '@x.com', '\\n\\n@nemyagky, @gmail.com', '@mail.com',\n",
       "       '@gmail.com,  @DoclerHolding,  @Big,  @Leads-Trade,  @Fruitware',\n",
       "       '@galqiwi.ru, \\n\\n@galaawi', '@gmail.com, \\n@roaaaslavnagimov',\n",
       "       '@yahoo.com', '@icloud.com', '@mail.me', '@bogbbbb.co'],\n",
       "      dtype=object)"
      ]
     },
     "execution_count": 203,
     "metadata": {},
     "output_type": "execute_result"
    }
   ],
   "source": [
    "df[\"Text\"].apply(find_tg).unique()"
   ]
  },
  {
   "cell_type": "code",
   "execution_count": null,
   "metadata": {},
   "outputs": [],
   "source": []
  }
 ],
 "metadata": {
  "kernelspec": {
   "display_name": "Python 3",
   "language": "python",
   "name": "python3"
  },
  "language_info": {
   "codemirror_mode": {
    "name": "ipython",
    "version": 3
   },
   "file_extension": ".py",
   "mimetype": "text/x-python",
   "name": "python",
   "nbconvert_exporter": "python",
   "pygments_lexer": "ipython3",
   "version": "3.10.12"
  }
 },
 "nbformat": 4,
 "nbformat_minor": 2
}
