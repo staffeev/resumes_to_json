{
 "cells": [
  {
   "cell_type": "code",
   "execution_count": 267,
   "metadata": {},
   "outputs": [],
   "source": [
    "import pandas as pd\n",
    "import re\n",
    "import fitz\n",
    "import io\n",
    "from PIL import Image"
   ]
  },
  {
   "cell_type": "code",
   "execution_count": 284,
   "metadata": {},
   "outputs": [],
   "source": [
    "df = pd.read_csv(\"../csv/text.csv\").drop(columns=[\"Unnamed: 0\"])"
   ]
  },
  {
   "cell_type": "code",
   "execution_count": 285,
   "metadata": {},
   "outputs": [
    {
     "data": {
      "text/plain": [
       "Filename                                  source/Aldar Myagky.pdf\n",
       "UsedFilename                              source/Aldar Myagky.pdf\n",
       "Blocks          ['Aldar MyAgKY\\\\n', '@nemyagky | iald.mag.web@...\n",
       "Text            Aldar MyAgKY\\n\\n@nemyagky | iald.mag.web@gmail...\n",
       "Name: 189, dtype: object"
      ]
     },
     "execution_count": 285,
     "metadata": {},
     "output_type": "execute_result"
    }
   ],
   "source": [
    "df.iloc[189]"
   ]
  },
  {
   "cell_type": "code",
   "execution_count": 286,
   "metadata": {},
   "outputs": [],
   "source": [
    "def f(num, filename):\n",
    "    doc = fitz.open(filename)\n",
    "    imgs = []\n",
    "    pageix = 0\n",
    "    for page in doc:\n",
    "        iix = 0\n",
    "        for xref, *_ in page.get_images():\n",
    "            img = doc.extract_image(xref)\n",
    "            image_bytes = img[\"image\"]\n",
    "            # get the image extension\n",
    "            image_ext = img[\"ext\"]\n",
    "            # load it to PIL\n",
    "            image = Image.open(io.BytesIO(image_bytes))\n",
    "            image.save(open(f\"../images/{num}_{pageix}_{iix}.{image_ext}\", \"wb\"))\n",
    "            iix += 1\n",
    "        pageix += 1"
   ]
  },
  {
   "cell_type": "code",
   "execution_count": 287,
   "metadata": {},
   "outputs": [
    {
     "ename": "FileNotFoundError",
     "evalue": "[Errno 2] No such file or directory: '../images/0_0_0.png'",
     "output_type": "error",
     "traceback": [
      "\u001b[0;31m---------------------------------------------------------------------------\u001b[0m",
      "\u001b[0;31mFileNotFoundError\u001b[0m                         Traceback (most recent call last)",
      "Cell \u001b[0;32mIn[287], line 2\u001b[0m\n\u001b[1;32m      1\u001b[0m \u001b[38;5;28;01mfor\u001b[39;00m i \u001b[38;5;129;01min\u001b[39;00m \u001b[38;5;28mrange\u001b[39m(\u001b[38;5;28mlen\u001b[39m(df)):\n\u001b[0;32m----> 2\u001b[0m     \u001b[43mf\u001b[49m\u001b[43m(\u001b[49m\u001b[43mi\u001b[49m\u001b[43m,\u001b[49m\u001b[43m \u001b[49m\u001b[38;5;124;43m\"\u001b[39;49m\u001b[38;5;124;43m../\u001b[39;49m\u001b[38;5;124;43m\"\u001b[39;49m\u001b[43m \u001b[49m\u001b[38;5;241;43m+\u001b[39;49m\u001b[43m \u001b[49m\u001b[43mdf\u001b[49m\u001b[43m[\u001b[49m\u001b[38;5;124;43m\"\u001b[39;49m\u001b[38;5;124;43mUsedFilename\u001b[39;49m\u001b[38;5;124;43m\"\u001b[39;49m\u001b[43m]\u001b[49m\u001b[38;5;241;43m.\u001b[39;49m\u001b[43miloc\u001b[49m\u001b[43m[\u001b[49m\u001b[43mi\u001b[49m\u001b[43m]\u001b[49m\u001b[43m)\u001b[49m\n",
      "Cell \u001b[0;32mIn[286], line 14\u001b[0m, in \u001b[0;36mf\u001b[0;34m(num, filename)\u001b[0m\n\u001b[1;32m     12\u001b[0m     \u001b[38;5;66;03m# load it to PIL\u001b[39;00m\n\u001b[1;32m     13\u001b[0m     image \u001b[38;5;241m=\u001b[39m Image\u001b[38;5;241m.\u001b[39mopen(io\u001b[38;5;241m.\u001b[39mBytesIO(image_bytes))\n\u001b[0;32m---> 14\u001b[0m     image\u001b[38;5;241m.\u001b[39msave(\u001b[38;5;28;43mopen\u001b[39;49m\u001b[43m(\u001b[49m\u001b[38;5;124;43mf\u001b[39;49m\u001b[38;5;124;43m\"\u001b[39;49m\u001b[38;5;124;43m../images/\u001b[39;49m\u001b[38;5;132;43;01m{\u001b[39;49;00m\u001b[43mnum\u001b[49m\u001b[38;5;132;43;01m}\u001b[39;49;00m\u001b[38;5;124;43m_\u001b[39;49m\u001b[38;5;132;43;01m{\u001b[39;49;00m\u001b[43mpageix\u001b[49m\u001b[38;5;132;43;01m}\u001b[39;49;00m\u001b[38;5;124;43m_\u001b[39;49m\u001b[38;5;132;43;01m{\u001b[39;49;00m\u001b[43miix\u001b[49m\u001b[38;5;132;43;01m}\u001b[39;49;00m\u001b[38;5;124;43m.\u001b[39;49m\u001b[38;5;132;43;01m{\u001b[39;49;00m\u001b[43mimage_ext\u001b[49m\u001b[38;5;132;43;01m}\u001b[39;49;00m\u001b[38;5;124;43m\"\u001b[39;49m\u001b[43m,\u001b[49m\u001b[43m \u001b[49m\u001b[38;5;124;43m\"\u001b[39;49m\u001b[38;5;124;43mwb\u001b[39;49m\u001b[38;5;124;43m\"\u001b[39;49m\u001b[43m)\u001b[49m)\n\u001b[1;32m     15\u001b[0m     iix \u001b[38;5;241m+\u001b[39m\u001b[38;5;241m=\u001b[39m \u001b[38;5;241m1\u001b[39m\n\u001b[1;32m     16\u001b[0m pageix \u001b[38;5;241m+\u001b[39m\u001b[38;5;241m=\u001b[39m \u001b[38;5;241m1\u001b[39m\n",
      "File \u001b[0;32m~/.local/lib/python3.10/site-packages/IPython/core/interactiveshell.py:308\u001b[0m, in \u001b[0;36m_modified_open\u001b[0;34m(file, *args, **kwargs)\u001b[0m\n\u001b[1;32m    301\u001b[0m \u001b[38;5;28;01mif\u001b[39;00m file \u001b[38;5;129;01min\u001b[39;00m {\u001b[38;5;241m0\u001b[39m, \u001b[38;5;241m1\u001b[39m, \u001b[38;5;241m2\u001b[39m}:\n\u001b[1;32m    302\u001b[0m     \u001b[38;5;28;01mraise\u001b[39;00m \u001b[38;5;167;01mValueError\u001b[39;00m(\n\u001b[1;32m    303\u001b[0m         \u001b[38;5;124mf\u001b[39m\u001b[38;5;124m\"\u001b[39m\u001b[38;5;124mIPython won\u001b[39m\u001b[38;5;124m'\u001b[39m\u001b[38;5;124mt let you open fd=\u001b[39m\u001b[38;5;132;01m{\u001b[39;00mfile\u001b[38;5;132;01m}\u001b[39;00m\u001b[38;5;124m by default \u001b[39m\u001b[38;5;124m\"\u001b[39m\n\u001b[1;32m    304\u001b[0m         \u001b[38;5;124m\"\u001b[39m\u001b[38;5;124mas it is likely to crash IPython. If you know what you are doing, \u001b[39m\u001b[38;5;124m\"\u001b[39m\n\u001b[1;32m    305\u001b[0m         \u001b[38;5;124m\"\u001b[39m\u001b[38;5;124myou can use builtins\u001b[39m\u001b[38;5;124m'\u001b[39m\u001b[38;5;124m open.\u001b[39m\u001b[38;5;124m\"\u001b[39m\n\u001b[1;32m    306\u001b[0m     )\n\u001b[0;32m--> 308\u001b[0m \u001b[38;5;28;01mreturn\u001b[39;00m \u001b[43mio_open\u001b[49m\u001b[43m(\u001b[49m\u001b[43mfile\u001b[49m\u001b[43m,\u001b[49m\u001b[43m \u001b[49m\u001b[38;5;241;43m*\u001b[39;49m\u001b[43margs\u001b[49m\u001b[43m,\u001b[49m\u001b[43m \u001b[49m\u001b[38;5;241;43m*\u001b[39;49m\u001b[38;5;241;43m*\u001b[39;49m\u001b[43mkwargs\u001b[49m\u001b[43m)\u001b[49m\n",
      "\u001b[0;31mFileNotFoundError\u001b[0m: [Errno 2] No such file or directory: '../images/0_0_0.png'"
     ]
    }
   ],
   "source": [
    "for i in range(len(df)):\n",
    "    f(i, \"../\" + df[\"UsedFilename\"].iloc[i])"
   ]
  },
  {
   "cell_type": "code",
   "execution_count": 288,
   "metadata": {},
   "outputs": [],
   "source": [
    "def process_pdf_file(filename):\n",
    "    \"\"\"Получает весь текст из pdf\"\"\"\n",
    "    doc = fitz.open(filename)\n",
    "    blocks = []\n",
    "    all_text = \"\"\n",
    "    for page in doc:\n",
    "        for block in page.get_text_blocks():\n",
    "            if block[4].startswith(\"<image:\") or \"Aspose\" in block[4]:\n",
    "                continue\n",
    "            blocks.append(block[4])\n",
    "            all_text += block[4] + \"\\n\"\n",
    "    return blocks, all_text"
   ]
  },
  {
   "cell_type": "code",
   "execution_count": 317,
   "metadata": {},
   "outputs": [],
   "source": [
    "def find_first_block(blocks):\n",
    "    for block in blocks:\n",
    "        txt = block.replace(\"\\n\", \" \").strip().split()\n",
    "        txt = txt[0] + \" \" + txt[1]\n",
    "        if re.fullmatch(r\"\\s*[а-яА-Яa-zA-Z ]+\\s*\", txt):\n",
    "            return txt\n",
    "    return None"
   ]
  },
  {
   "cell_type": "code",
   "execution_count": 318,
   "metadata": {},
   "outputs": [
    {
     "name": "stdout",
     "output_type": "stream",
     "text": [
      "source/Renat Ivanov.pdf Renat IVANOV\n",
      "source/Alexandr Burakov.pdf Alexandr Burakov\n",
      "source/Marat Dolya.pdf Marat Dolya\n",
      "source/Albert SERIAKOV.pdf Albert SERIAKOV\n",
      "source/DANIIL BULYGA.pdf Igor Korniltsev\n",
      "source/Kirill Piaternev.pdf Kirill Piaternev\n",
      "source/Dasha Yavorska.pdf Dasha Yavorska\n",
      "source/Egor Pianykh.pdf Egor Pianykh\n",
      "source/Danil Kikvadze.pdf Danil Kikvadze\n",
      "source/Aldar Ulubayev.pdf Aldar Ulubayev\n",
      "source/Vsevolod Vinogradov.pdf Vsevolod Vinogradov\n",
      "source/Резниченко Алексей.pdf Резниченко Алексей\n",
      "source/EGOR BALIUK.pdf EGOR BALIUK\n",
      "source/Denis Rakitnykh.pdf Denis Rakitnykh\n",
      "source/Alan Iusupov .pdf Alan Iusupov\n",
      "source/Viktor Shupenka.pdf Personal Information\n",
      "source/Elena Gale.pdf Elena Gale\n",
      "source/DENIS GRIGOREV.pdf DENIS GRIGOREV\n",
      "source/Artyom Orlov.pdf Artyom Orlov\n",
      "source/Vladyslav Tyshchenko Data Analyst v2.pdf Vladyslav Tyshchenko\n",
      "source/Dima SIDORENKO.pdf Dima SIDORENKO\n",
      "source/Ivan CHUDINOV.pdf Ivan CHUDINOV\n",
      "source/АЛЕКСЕЙ КУРБАНОВ.pdf KHALIMBETOV ASLAN\n",
      "source/Aman Yersultan.pdf Aman Yersultan\n",
      "source/Pavel Korniltsev.pdf Pavel Korniltsev\n",
      "source/Alina   MANAFLI.pdf Alina MANAFLI\n",
      "source/Alena Guseinova.pdf Alena Guseinova\n",
      "source/Liza MOKHAN.pdf Sunny Isles\n",
      "source/ALLA VERNIGOR.pdf ALLA VERNIGOR\n",
      "source/Petr  Sudakov.pdf Petr Sudakov\n",
      "source/Albina Batmanova.pdf Albina Batmanova\n",
      "source/Andrey Pichugin.pdf Andrey Pichugin\n",
      "source/Marat Tereshkov.pdf Marat Tereshkov\n",
      "source/Danil Vibly.pdf Danil Vibly\n",
      "source/BALAMANOVA ASSEL.pdf BALAMANOVA ASSEL\n",
      "source/Marat Nuriev.pdf Marat Nuriev\n",
      "source/KHALIMBETOV ASLAN.pdf KHALIMBETOV ASLAN\n",
      "source/Mark Pavlenko.pdf Mark Pavlenko\n",
      "source/Gregoriy Alexeev.pdf Gregoriy Alexeev\n",
      "source/Karen Kekov.pdf Karen Kekov\n",
      "source/Danila Shiga.pdf Danila Shiga\n",
      "source/MARGO SAGITOVA.pdf MARGO SAGITOVA\n",
      "source/CHE RNY AVS K I Y Artyom.pdf EMPLOYMENT CHE\n",
      "source/Anna Shemerey.pdf Anna Shemerey\n",
      "source/Viktor Pavlenko.pdf Viktor Pavlenko\n",
      "source/IVAN LOPTEV.pdf IVAN LOPTEV\n",
      "source/Victor Ivaniushenko.pdf Victor Ivaniushenko\n",
      "source/Alex Morozko.pdf Alex Morozko\n",
      "source/Oleg Protsenko.pdf Oleg Protsenko\n",
      "source/Aldar Myagky.pdf Aldar MyAgKY\n",
      "source/Stanislav Gavrilov.pdf Stanislav Gavrilov\n",
      "source/ANDREY PODKIDYSHEV.pdf ANDREY PODKIDYSHEV\n",
      "source/Denis Korenyako.pdf Denis Korenyako\n",
      "source/Anzola AMANBEK.pdf Anzola AMANBEK\n",
      "source/Arseniy Konev.pdf Arseniy Konev\n",
      "source/Leonid Kolesnikov.pdf Leonid Kolesnikov\n",
      "source/EGOR SADIBEKOV .pdf EGOR SADIBEKOV\n",
      "source/Malik Raiskhanov .pdf Malik Raiskhanov\n",
      "source/Andrey Maximov.pdf Andrey Maximov\n",
      "source/Miron MEDVEDEV.pdf Miron MEDVEDEV\n",
      "source/Semen Ivanov.pdf SEMEN IVANOV\n",
      "source/Ivan Ulyanov.pdf Ivan Ulyanov\n",
      "source/Anton Garkavy.pdf Anton Garkavy\n",
      "source/Igor Rodin.pdf Igor Rodin\n",
      "source/Alan Abdirasul.pdf Alan Abdirasul\n",
      "source/Polina Gorbunova.pdf Polina Gorbunova\n",
      "source/Lilya SUCHKOVA.pdf Lilya SUCHKOVA\n",
      "source/Akhundov Damat.pdf Akhundov Damat\n",
      "source/Alexey Melnichnikov.pdf Alexey Melnichnikov\n",
      "source/Fedor Shulyak.pdf Fedor Shulyak\n",
      "source/Kairat KHISAMIEV.pdf Kairat KHISAMIEV\n",
      "source/Evgenii Kalinin.pdf Evgenii Kalinin\n",
      "source/DENIS NEBESNOV.pdf DENIS NEBESNOV\n",
      "source/JOHN SMITH.pdf JOHN SMITH\n",
      "source/Mikhail Mukhamatulin.pdf Mikhail Mukhamatulin\n",
      "source/David Samoylov.pdf David Samoylov\n",
      "source/BOGDANOV NIKOLA.pdf BOGDANOV NIKOLA\n",
      "source/Pavel Prysiazhniuk.pdf Pavel Prysiazhniuk\n"
     ]
    }
   ],
   "source": [
    "for i in range(len(df)):\n",
    "    filename = df.iloc[i, 0]\n",
    "    if \".doc\" in filename:\n",
    "        continue\n",
    "    try:\n",
    "        blocks, _ = process_pdf_file(\"../\" + filename)\n",
    "        a = find_first_block(blocks)\n",
    "        print(filename, a)\n",
    "    except:\n",
    "        pass"
   ]
  },
  {
   "cell_type": "code",
   "execution_count": 305,
   "metadata": {},
   "outputs": [
    {
     "data": {
      "text/plain": [
       "['А']"
      ]
     },
     "execution_count": 305,
     "metadata": {},
     "output_type": "execute_result"
    }
   ],
   "source": [
    "re.findall(r\"[А-Я]+\", \"Апыо\")"
   ]
  },
  {
   "cell_type": "code",
   "execution_count": 319,
   "metadata": {},
   "outputs": [],
   "source": [
    "blocks, _ = process_pdf_file(\"../source/Pavel Prysiazhniuk.pdf\")"
   ]
  },
  {
   "cell_type": "code",
   "execution_count": 320,
   "metadata": {},
   "outputs": [
    {
     "data": {
      "text/plain": [
       "['Pavel Prysiazhniuk\\n',\n",
       " 'FRONT END DEVELOPER\\n',\n",
       " 'Lynnwood, WA —taaay.pr401@gmail.com — (425) 000-6524 — Linkedin\\n']"
      ]
     },
     "execution_count": 320,
     "metadata": {},
     "output_type": "execute_result"
    }
   ],
   "source": [
    "blocks[:3]"
   ]
  },
  {
   "cell_type": "code",
   "execution_count": 321,
   "metadata": {},
   "outputs": [
    {
     "data": {
      "text/plain": [
       "'Pavel Prysiazhniuk'"
      ]
     },
     "execution_count": 321,
     "metadata": {},
     "output_type": "execute_result"
    }
   ],
   "source": [
    "find_first_block(blocks)"
   ]
  },
  {
   "cell_type": "code",
   "execution_count": 322,
   "metadata": {},
   "outputs": [
    {
     "data": {
      "text/plain": [
       "True"
      ]
     },
     "execution_count": 322,
     "metadata": {},
     "output_type": "execute_result"
    }
   ],
   "source": [
    "\"п\".isalpha()"
   ]
  },
  {
   "cell_type": "code",
   "execution_count": null,
   "metadata": {},
   "outputs": [],
   "source": []
  }
 ],
 "metadata": {
  "kernelspec": {
   "display_name": "Python 3",
   "language": "python",
   "name": "python3"
  },
  "language_info": {
   "codemirror_mode": {
    "name": "ipython",
    "version": 3
   },
   "file_extension": ".py",
   "mimetype": "text/x-python",
   "name": "python",
   "nbconvert_exporter": "python",
   "pygments_lexer": "ipython3",
   "version": "3.10.12"
  }
 },
 "nbformat": 4,
 "nbformat_minor": 2
}
