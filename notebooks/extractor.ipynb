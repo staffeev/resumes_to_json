{
 "cells": [
  {
   "cell_type": "code",
   "execution_count": 3,
   "metadata": {},
   "outputs": [],
   "source": [
    "import pandas as pd\n",
    "import re"
   ]
  },
  {
   "cell_type": "code",
   "execution_count": 4,
   "metadata": {},
   "outputs": [],
   "source": [
    "df = pd.read_csv(\"../csv/text.csv\").drop(columns=[\"Unnamed: 0\"])\n",
    "df = df[~df.isna().any(axis=1)]"
   ]
  },
  {
   "cell_type": "code",
   "execution_count": 5,
   "metadata": {},
   "outputs": [],
   "source": [
    "def find_email(text):\n",
    "    als = \"[a-zA-Z0-9.-_]\"\n",
    "    found = re.findall(rf\"{als}+@{als}+\\.{als}+\", text)\n",
    "    if not found:\n",
    "        return None\n",
    "    return found[0]"
   ]
  },
  {
   "cell_type": "code",
   "execution_count": 6,
   "metadata": {},
   "outputs": [],
   "source": [
    "def check_if_duration(text):\n",
    "    return re.fullmatch(r\"\\s*\\d{4}\\s*-\\s*\\d{4}\\s*\", text) is not None\n",
    "    "
   ]
  },
  {
   "cell_type": "code",
   "execution_count": 7,
   "metadata": {},
   "outputs": [],
   "source": [
    "def find_phone(text, lb=11):\n",
    "    found = re.findall(r\"[ 0-9-_\\+\\(\\)]+\", text)\n",
    "    rb = 15\n",
    "    for i in sorted(found, key=len, reverse=True):\n",
    "        if lb <= len(re.findall(r\"\\d\", i)) <= rb and not check_if_duration(i):\n",
    "            return i\n",
    "    return None"
   ]
  },
  {
   "cell_type": "code",
   "execution_count": 8,
   "metadata": {},
   "outputs": [],
   "source": [
    "df[\"Email\"] = df[\"Text\"].apply(find_email)\n",
    "df[\"Phone\"] = df[\"Text\"].apply(find_phone)"
   ]
  },
  {
   "cell_type": "code",
   "execution_count": 14,
   "metadata": {},
   "outputs": [],
   "source": [
    "def get_skype(text):\n",
    "    found = re.findall(r\"^skype$\", text)\n",
    "    if not found:\n",
    "        return None\n",
    "    return found"
   ]
  },
  {
   "cell_type": "code",
   "execution_count": 15,
   "metadata": {},
   "outputs": [
    {
     "data": {
      "text/plain": [
       "Series([], Name: count, dtype: int64)"
      ]
     },
     "execution_count": 15,
     "metadata": {},
     "output_type": "execute_result"
    }
   ],
   "source": [
    "df[\"Text\"].apply(get_skype).value_counts()"
   ]
  },
  {
   "cell_type": "code",
   "execution_count": null,
   "metadata": {},
   "outputs": [],
   "source": []
  }
 ],
 "metadata": {
  "kernelspec": {
   "display_name": "Python 3",
   "language": "python",
   "name": "python3"
  },
  "language_info": {
   "codemirror_mode": {
    "name": "ipython",
    "version": 3
   },
   "file_extension": ".py",
   "mimetype": "text/x-python",
   "name": "python",
   "nbconvert_exporter": "python",
   "pygments_lexer": "ipython3",
   "version": "3.10.12"
  }
 },
 "nbformat": 4,
 "nbformat_minor": 2
}
