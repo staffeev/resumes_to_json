{
 "cells": [
  {
   "cell_type": "code",
   "execution_count": 14,
   "metadata": {},
   "outputs": [],
   "source": [
    "import pandas as pd\n",
    "from nltk.stem import PorterStemmer\n"
   ]
  },
  {
   "cell_type": "code",
   "execution_count": 7,
   "metadata": {},
   "outputs": [],
   "source": [
    "ps = PorterStemmer()\n",
    "\n",
    "def stem(text):\n",
    "    try:\n",
    "        return [ps.stem(word) for word in text.split()]\n",
    "    except:\n",
    "        print(text)\n",
    "\n",
    "def preprocess(df):\n",
    "    df[\"Stemmed\"] = df[\"Text\"].apply(stem)\n",
    "    return df"
   ]
  },
  {
   "cell_type": "code",
   "execution_count": 8,
   "metadata": {},
   "outputs": [],
   "source": [
    "def calc_count_of_word(word, df):\n",
    "    stemmed_word = stem(word)[0]\n",
    "    sub = df[\"Stemmed\"].apply(lambda x: (stemmed_word in x))\n",
    "    return sub == True, sub == False, sub.value_counts()"
   ]
  },
  {
   "cell_type": "code",
   "execution_count": 15,
   "metadata": {},
   "outputs": [],
   "source": [
    "df = pd.read_csv(\"../csv/text.csv\").drop(columns=[\"Unnamed: 0\"])"
   ]
  },
  {
   "cell_type": "code",
   "execution_count": 16,
   "metadata": {},
   "outputs": [
    {
     "data": {
      "text/html": [
       "<div>\n",
       "<style scoped>\n",
       "    .dataframe tbody tr th:only-of-type {\n",
       "        vertical-align: middle;\n",
       "    }\n",
       "\n",
       "    .dataframe tbody tr th {\n",
       "        vertical-align: top;\n",
       "    }\n",
       "\n",
       "    .dataframe thead th {\n",
       "        text-align: right;\n",
       "    }\n",
       "</style>\n",
       "<table border=\"1\" class=\"dataframe\">\n",
       "  <thead>\n",
       "    <tr style=\"text-align: right;\">\n",
       "      <th></th>\n",
       "      <th>Filename</th>\n",
       "      <th>UsedFilename</th>\n",
       "      <th>Blocks</th>\n",
       "      <th>Text</th>\n",
       "    </tr>\n",
       "  </thead>\n",
       "  <tbody>\n",
       "    <tr>\n",
       "      <th>0</th>\n",
       "      <td>source/Renat Ivanov.pdf</td>\n",
       "      <td>source/Renat Ivanov.pdf</td>\n",
       "      <td>['Renat IVANOV\\\\n', 'Senior Software Engineer\\...</td>\n",
       "      <td>Renat IVANOV\\n\\nSenior Software Engineer\\n\\nMo...</td>\n",
       "    </tr>\n",
       "    <tr>\n",
       "      <th>1</th>\n",
       "      <td>source/Eshi Juraev.pdf</td>\n",
       "      <td>source/Eshi Juraev.pdf</td>\n",
       "      <td>['SUMMARY\\\\n', 'Eshi Juraev\\\\n', 'Email: baaah...</td>\n",
       "      <td>SUMMARY\\n\\nEshi Juraev\\n\\nEmail: baaahayotoff@...</td>\n",
       "    </tr>\n",
       "    <tr>\n",
       "      <th>2</th>\n",
       "      <td>source/Alexandr Burakov.pdf</td>\n",
       "      <td>source/Alexandr Burakov.pdf</td>\n",
       "      <td>['Alexandr Burakov\\\\n', '(+38) 097-000-81-95 |...</td>\n",
       "      <td>Alexandr Burakov\\n\\n(+38) 097-000-81-95 | buaa...</td>\n",
       "    </tr>\n",
       "    <tr>\n",
       "      <th>3</th>\n",
       "      <td>source/Yan Doe.pdf</td>\n",
       "      <td>source/Yan Doe.pdf</td>\n",
       "      <td>['Yan.doe@gmail.com\\\\n', 'Senior Backend Devel...</td>\n",
       "      <td>Yan.doe@gmail.com\\n\\nSenior Backend Developer\\...</td>\n",
       "    </tr>\n",
       "    <tr>\n",
       "      <th>4</th>\n",
       "      <td>source/Marat Dolya.pdf</td>\n",
       "      <td>source/Marat Dolya.pdf</td>\n",
       "      <td>['Marat Dolya\\\\n', 'aaaam.dolya@gmail.com\\\\n',...</td>\n",
       "      <td>Marat Dolya\\n\\naaaam.dolya@gmail.com\\n\\n+14000...</td>\n",
       "    </tr>\n",
       "    <tr>\n",
       "      <th>...</th>\n",
       "      <td>...</td>\n",
       "      <td>...</td>\n",
       "      <td>...</td>\n",
       "      <td>...</td>\n",
       "    </tr>\n",
       "    <tr>\n",
       "      <th>98</th>\n",
       "      <td>source/Mikhail Mukhamatulin.pdf</td>\n",
       "      <td>source/Mikhail Mukhamatulin.pdf</td>\n",
       "      <td>['Mikhail Mukhamatulin \\\\n', '+7-981-809-26-88...</td>\n",
       "      <td>Mikhail Mukhamatulin \\n\\n+7-981-809-26-88 | mi...</td>\n",
       "    </tr>\n",
       "    <tr>\n",
       "      <th>99</th>\n",
       "      <td>source/ANDREW MIRONOV.pdf</td>\n",
       "      <td>source/ANDREW MIRONOV.pdf</td>\n",
       "      <td>[' \\\\n', ' \\\\n', 'ANDREW MIRONOV \\\\n', ' \\\\n',...</td>\n",
       "      <td>\\n\\n \\n\\nANDREW MIRONOV \\n\\n \\n\\nMoscow, Russ...</td>\n",
       "    </tr>\n",
       "    <tr>\n",
       "      <th>100</th>\n",
       "      <td>source/David Samoylov.pdf</td>\n",
       "      <td>source/David Samoylov.pdf</td>\n",
       "      <td>['David Samoylov\\\\n', '+7 (707) 000-76-27 | ea...</td>\n",
       "      <td>David Samoylov\\n\\n+7 (707) 000-76-27 | eaaanes...</td>\n",
       "    </tr>\n",
       "    <tr>\n",
       "      <th>101</th>\n",
       "      <td>source/BOGDANOV NIKOLA.pdf</td>\n",
       "      <td>source/BOGDANOV NIKOLA.pdf</td>\n",
       "      <td>['BOGDANOV NIKOLA \\\\n', ' +7(927)9067111 \\\\n a...</td>\n",
       "      <td>BOGDANOV NIKOLA \\n\\n +7(927)9067111 \\n a@bogbb...</td>\n",
       "    </tr>\n",
       "    <tr>\n",
       "      <th>102</th>\n",
       "      <td>source/Pavel Prysiazhniuk.pdf</td>\n",
       "      <td>source/Pavel Prysiazhniuk.pdf</td>\n",
       "      <td>['Pavel Prysiazhniuk\\\\n', 'FRONT END DEVELOPER...</td>\n",
       "      <td>Pavel Prysiazhniuk\\n\\nFRONT END DEVELOPER\\n\\nL...</td>\n",
       "    </tr>\n",
       "  </tbody>\n",
       "</table>\n",
       "<p>103 rows × 4 columns</p>\n",
       "</div>"
      ],
      "text/plain": [
       "                            Filename                     UsedFilename  \\\n",
       "0            source/Renat Ivanov.pdf          source/Renat Ivanov.pdf   \n",
       "1             source/Eshi Juraev.pdf           source/Eshi Juraev.pdf   \n",
       "2        source/Alexandr Burakov.pdf      source/Alexandr Burakov.pdf   \n",
       "3                 source/Yan Doe.pdf               source/Yan Doe.pdf   \n",
       "4             source/Marat Dolya.pdf           source/Marat Dolya.pdf   \n",
       "..                               ...                              ...   \n",
       "98   source/Mikhail Mukhamatulin.pdf  source/Mikhail Mukhamatulin.pdf   \n",
       "99         source/ANDREW MIRONOV.pdf        source/ANDREW MIRONOV.pdf   \n",
       "100        source/David Samoylov.pdf        source/David Samoylov.pdf   \n",
       "101       source/BOGDANOV NIKOLA.pdf       source/BOGDANOV NIKOLA.pdf   \n",
       "102    source/Pavel Prysiazhniuk.pdf    source/Pavel Prysiazhniuk.pdf   \n",
       "\n",
       "                                                Blocks  \\\n",
       "0    ['Renat IVANOV\\\\n', 'Senior Software Engineer\\...   \n",
       "1    ['SUMMARY\\\\n', 'Eshi Juraev\\\\n', 'Email: baaah...   \n",
       "2    ['Alexandr Burakov\\\\n', '(+38) 097-000-81-95 |...   \n",
       "3    ['Yan.doe@gmail.com\\\\n', 'Senior Backend Devel...   \n",
       "4    ['Marat Dolya\\\\n', 'aaaam.dolya@gmail.com\\\\n',...   \n",
       "..                                                 ...   \n",
       "98   ['Mikhail Mukhamatulin \\\\n', '+7-981-809-26-88...   \n",
       "99   [' \\\\n', ' \\\\n', 'ANDREW MIRONOV \\\\n', ' \\\\n',...   \n",
       "100  ['David Samoylov\\\\n', '+7 (707) 000-76-27 | ea...   \n",
       "101  ['BOGDANOV NIKOLA \\\\n', ' +7(927)9067111 \\\\n a...   \n",
       "102  ['Pavel Prysiazhniuk\\\\n', 'FRONT END DEVELOPER...   \n",
       "\n",
       "                                                  Text  \n",
       "0    Renat IVANOV\\n\\nSenior Software Engineer\\n\\nMo...  \n",
       "1    SUMMARY\\n\\nEshi Juraev\\n\\nEmail: baaahayotoff@...  \n",
       "2    Alexandr Burakov\\n\\n(+38) 097-000-81-95 | buaa...  \n",
       "3    Yan.doe@gmail.com\\n\\nSenior Backend Developer\\...  \n",
       "4    Marat Dolya\\n\\naaaam.dolya@gmail.com\\n\\n+14000...  \n",
       "..                                                 ...  \n",
       "98   Mikhail Mukhamatulin \\n\\n+7-981-809-26-88 | mi...  \n",
       "99    \\n\\n \\n\\nANDREW MIRONOV \\n\\n \\n\\nMoscow, Russ...  \n",
       "100  David Samoylov\\n\\n+7 (707) 000-76-27 | eaaanes...  \n",
       "101  BOGDANOV NIKOLA \\n\\n +7(927)9067111 \\n a@bogbb...  \n",
       "102  Pavel Prysiazhniuk\\n\\nFRONT END DEVELOPER\\n\\nL...  \n",
       "\n",
       "[103 rows x 4 columns]"
      ]
     },
     "execution_count": 16,
     "metadata": {},
     "output_type": "execute_result"
    }
   ],
   "source": [
    "df"
   ]
  },
  {
   "cell_type": "code",
   "execution_count": 17,
   "metadata": {},
   "outputs": [
    {
     "data": {
      "text/plain": [
       "Filename                              source/Albina Batmanova.pdf\n",
       "UsedFilename                          source/Albina Batmanova.pdf\n",
       "Blocks          ['Albina Batmanova\\\\n', 'Software Engineer, Mo...\n",
       "Text            Albina Batmanova\\n\\nSoftware Engineer, Moscow\\...\n",
       "Name: 40, dtype: object"
      ]
     },
     "execution_count": 17,
     "metadata": {},
     "output_type": "execute_result"
    }
   ],
   "source": [
    "df[df[\"Text\"].str.contains(\"Batmanova\")].iloc[0][\"Text\"]"
   ]
  },
  {
   "cell_type": "code",
   "execution_count": 23,
   "metadata": {},
   "outputs": [],
   "source": [
    "df = preprocess(df)"
   ]
  },
  {
   "cell_type": "code",
   "execution_count": 8,
   "metadata": {},
   "outputs": [
    {
     "data": {
      "text/plain": [
       "array(['source/DANIIL BULYGA.pdf', 'source/Danila Doroshenko.pdf',\n",
       "       'source/Nikolas Evsiukov.pdf', 'source/Резниченко Алексей.pdf',\n",
       "       'source/SEMEN BOKUN.pdf', 'source/Alan Iusupov .pdf',\n",
       "       'source/Mitya Brezovsky.pdf', 'source/Viktor Shupenka.pdf',\n",
       "       'source/Elena Gale.pdf', 'source/DENIS GRIGOREV.pdf',\n",
       "       'source/Iliya Stepanov.pdf', 'source/Ivan CHUDINOV.pdf',\n",
       "       'source/Nickita Valchkou.pdf', 'source/АЛЕКСЕЙ КУРБАНОВ.pdf',\n",
       "       'source/Anton Nesterenko.pdf', 'source/Nick Koshlan.docx',\n",
       "       'source/Pavel Korniltsev.pdf', 'source/Ivan Petrov.pdf',\n",
       "       'source/Alina   MANAFLI.pdf', 'source/ALLA VERNIGOR.pdf',\n",
       "       'source/STEPAN GOLDOBIN.pdf', 'source/VLADIMIR MATVEEV.pdf',\n",
       "       'source/KHALIMBETOV ASLAN.pdf', 'source/Budniak Ivan.pdf',\n",
       "       'source/Karen Kekov.pdf', 'source/Danila Shiga.pdf',\n",
       "       'source/Anna Shemerey.pdf', 'source/Viktor Pavlenko.pdf',\n",
       "       'source/Vadim Brezovsky.pdf', 'source/Nikita Ivanov.pdf',\n",
       "       'source/DMIRTII TKACHENKO.pdf', 'source/EGOR SADIBEKOV .pdf',\n",
       "       'source/Andrey Maximov.pdf', 'source/Vadim Bozhenko.pdf',\n",
       "       'source/Anton Garkavy.pdf', 'source/Igor Rodin.pdf',\n",
       "       'source/Ivan Kalashnikov.docx', 'source/Serj Mkrtchyan.pdf',\n",
       "       'source/Alan Abdirasul.pdf', 'source/Elena Akterskaia.pdf',\n",
       "       'source/Alexey Melnichnikov.pdf', 'source/Pavel Egorov .pdf',\n",
       "       'source/Fedor Shulyak.pdf', 'source/JOHN SMITH.pdf',\n",
       "       'source/ANDREW MIRONOV.pdf', 'source/BOGDANOV NIKOLA.pdf'],\n",
       "      dtype=object)"
      ]
     },
     "execution_count": 8,
     "metadata": {},
     "output_type": "execute_result"
    }
   ],
   "source": [
    "df[df[\"Stemmed\"].apply(lambda x: len(x) == 0)][\"Filename\"].unique()"
   ]
  },
  {
   "cell_type": "code",
   "execution_count": 110,
   "metadata": {},
   "outputs": [
    {
     "data": {
      "text/html": [
       "<div>\n",
       "<style scoped>\n",
       "    .dataframe tbody tr th:only-of-type {\n",
       "        vertical-align: middle;\n",
       "    }\n",
       "\n",
       "    .dataframe tbody tr th {\n",
       "        vertical-align: top;\n",
       "    }\n",
       "\n",
       "    .dataframe thead th {\n",
       "        text-align: right;\n",
       "    }\n",
       "</style>\n",
       "<table border=\"1\" class=\"dataframe\">\n",
       "  <thead>\n",
       "    <tr style=\"text-align: right;\">\n",
       "      <th></th>\n",
       "      <th>Filename</th>\n",
       "      <th>Text</th>\n",
       "      <th>Stemmed</th>\n",
       "    </tr>\n",
       "  </thead>\n",
       "  <tbody>\n",
       "    <tr>\n",
       "      <th>27</th>\n",
       "      <td>source/Алифанова  Алина.docx</td>\n",
       "      <td>\\n\\n\\n\\n</td>\n",
       "      <td>[]</td>\n",
       "    </tr>\n",
       "    <tr>\n",
       "      <th>30</th>\n",
       "      <td>source/KRAVTSOVA ELENA.docx</td>\n",
       "      <td>\\n</td>\n",
       "      <td>[]</td>\n",
       "    </tr>\n",
       "    <tr>\n",
       "      <th>89</th>\n",
       "      <td>source/Baidar NU R I E V.docx</td>\n",
       "      <td>\\n</td>\n",
       "      <td>[]</td>\n",
       "    </tr>\n",
       "    <tr>\n",
       "      <th>110</th>\n",
       "      <td>source/Бармин Антон.docx</td>\n",
       "      <td>\\n</td>\n",
       "      <td>[]</td>\n",
       "    </tr>\n",
       "  </tbody>\n",
       "</table>\n",
       "</div>"
      ],
      "text/plain": [
       "                          Filename      Text Stemmed\n",
       "27    source/Алифанова  Алина.docx  \\n\\n\\n\\n      []\n",
       "30     source/KRAVTSOVA ELENA.docx        \\n      []\n",
       "89   source/Baidar NU R I E V.docx        \\n      []\n",
       "110       source/Бармин Антон.docx        \\n      []"
      ]
     },
     "execution_count": 110,
     "metadata": {},
     "output_type": "execute_result"
    }
   ],
   "source": [
    "df[df[\"Stemmed\"].apply(lambda x: len(x)) == 0]"
   ]
  },
  {
   "cell_type": "code",
   "execution_count": 24,
   "metadata": {},
   "outputs": [
    {
     "data": {
      "text/plain": [
       "Filename\n",
       "source/Konstantin Grachev.docx        133\n",
       "source/Малиновский Аркадий.pdf        152\n",
       "source/Baidar Nuriev.docx             166\n",
       "source/Viktor Shupenka.pdf            178\n",
       "source/Mitya Brezovsky.pdf            190\n",
       "                                    ...  \n",
       "source/Нурутдинов Александр.doc      1270\n",
       "source/ASLANBEK ASADOV.docx          1613\n",
       "source/Ivan Petrov.pdf               2527\n",
       "source/Pavel Fedotov.docx            2535\n",
       "source/pymupdf.pdf                 152160\n",
       "Name: Stemmed, Length: 212, dtype: int64"
      ]
     },
     "execution_count": 24,
     "metadata": {},
     "output_type": "execute_result"
    }
   ],
   "source": [
    "df.groupby(\"Filename\")[\"Stemmed\"].apply(lambda x: sum([len(i) for i in x])).sort_values()"
   ]
  },
  {
   "cell_type": "code",
   "execution_count": 17,
   "metadata": {},
   "outputs": [
    {
     "data": {
      "text/html": [
       "<div>\n",
       "<style scoped>\n",
       "    .dataframe tbody tr th:only-of-type {\n",
       "        vertical-align: middle;\n",
       "    }\n",
       "\n",
       "    .dataframe tbody tr th {\n",
       "        vertical-align: top;\n",
       "    }\n",
       "\n",
       "    .dataframe thead th {\n",
       "        text-align: right;\n",
       "    }\n",
       "</style>\n",
       "<table border=\"1\" class=\"dataframe\">\n",
       "  <thead>\n",
       "    <tr style=\"text-align: right;\">\n",
       "      <th></th>\n",
       "      <th>Filename</th>\n",
       "      <th>Text</th>\n",
       "      <th>Stemmed</th>\n",
       "    </tr>\n",
       "  </thead>\n",
       "  <tbody>\n",
       "    <tr>\n",
       "      <th>18187</th>\n",
       "      <td>source/Nikita Ivanov.pdf</td>\n",
       "      <td>Nikita Ivanov \\n</td>\n",
       "      <td>[nikita, ivanov]</td>\n",
       "    </tr>\n",
       "    <tr>\n",
       "      <th>18188</th>\n",
       "      <td>source/Nikita Ivanov.pdf</td>\n",
       "      <td>\\n \\n \\n</td>\n",
       "      <td>[]</td>\n",
       "    </tr>\n",
       "  </tbody>\n",
       "</table>\n",
       "</div>"
      ],
      "text/plain": [
       "                       Filename              Text           Stemmed\n",
       "18187  source/Nikita Ivanov.pdf  Nikita Ivanov \\n  [nikita, ivanov]\n",
       "18188  source/Nikita Ivanov.pdf          \\n \\n \\n                []"
      ]
     },
     "execution_count": 17,
     "metadata": {},
     "output_type": "execute_result"
    }
   ],
   "source": [
    "df[df[\"Filename\"] == \"source/Nikita Ivanov.pdf\"]"
   ]
  },
  {
   "cell_type": "code",
   "execution_count": 121,
   "metadata": {},
   "outputs": [],
   "source": [
    "for i in range(10):\n",
    "    filename = df.iloc[i, 0].strip(\"source/\").split(\".\")[0]\n",
    "    text = df.iloc[i, 1]\n",
    "    with open(f\"/home/staffeev/ProgrammingProjects/resumes_to_json/test_txt/{filename}.txt\", \"w\", encoding=\"utf-8\") as file:\n",
    "        file.write(text)"
   ]
  },
  {
   "cell_type": "code",
   "execution_count": 19,
   "metadata": {},
   "outputs": [],
   "source": [
    "def save_to_txt(name):\n",
    "    row = df[df[\"Filename\"].str.contains(name)]\n",
    "    filename = row[\"Filename\"].values[0].strip(\"source/\").split(\".\")[0]\n",
    "    text = row[\"Text\"].values[0]\n",
    "    with open(f\"/home/staffeev/ProgrammingProjects/resumes_to_json/test_txt/{filename}.txt\", \"w\", encoding=\"utf-8\") as file:\n",
    "        file.write(text)"
   ]
  },
  {
   "cell_type": "code",
   "execution_count": 128,
   "metadata": {},
   "outputs": [],
   "source": [
    "save_to_txt(\"Artur Yapparov\")"
   ]
  },
  {
   "cell_type": "code",
   "execution_count": 129,
   "metadata": {},
   "outputs": [],
   "source": [
    "save_to_txt(\"Akhundov Damat\")"
   ]
  },
  {
   "cell_type": "code",
   "execution_count": 130,
   "metadata": {},
   "outputs": [],
   "source": [
    "save_to_txt(\"Nikolay Rakitnykh\")"
   ]
  },
  {
   "cell_type": "code",
   "execution_count": 20,
   "metadata": {},
   "outputs": [],
   "source": [
    "save_to_txt(\"Albina Batmanova\")"
   ]
  },
  {
   "cell_type": "code",
   "execution_count": null,
   "metadata": {},
   "outputs": [],
   "source": []
  }
 ],
 "metadata": {
  "kernelspec": {
   "display_name": ".venv",
   "language": "python",
   "name": "python3"
  },
  "language_info": {
   "codemirror_mode": {
    "name": "ipython",
    "version": 3
   },
   "file_extension": ".py",
   "mimetype": "text/x-python",
   "name": "python",
   "nbconvert_exporter": "python",
   "pygments_lexer": "ipython3",
   "version": "3.10.12"
  }
 },
 "nbformat": 4,
 "nbformat_minor": 2
}
